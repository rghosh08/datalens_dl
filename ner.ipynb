{
 "cells": [
  {
   "cell_type": "markdown",
   "id": "fbbb5ea5-302e-4038-a884-1bbf7727461a",
   "metadata": {},
   "source": [
    "### Abstract¶\n",
    "#### This notebook pertains to a representative NER use case adopted from a Kaggle dataset (https://www.kaggle.com/ritvik1909/named-entity-recognition/notebook). NER is particularly useful for parsing unstructured log files. "
   ]
  },
  {
   "cell_type": "markdown",
   "id": "efb892fe-eb02-446c-a810-74f605bf926e",
   "metadata": {},
   "source": [
    "##### we use flair (https://github.com/flairNLP/flair) an open source library from Humboldt University of Berlin. "
   ]
  },
  {
   "cell_type": "code",
   "execution_count": 18,
   "id": "ed33a735-4959-493d-b70b-eb541dd70e8d",
   "metadata": {},
   "outputs": [],
   "source": [
    "# !pip3 uninstall typing -y\n",
    "# !pip3 install flair"
   ]
  },
  {
   "cell_type": "code",
   "execution_count": 2,
   "id": "050ace15-41dc-49bf-b28b-0e3f12c15b5b",
   "metadata": {},
   "outputs": [],
   "source": [
    "import numpy as np\n",
    "import pandas as pd\n",
    "import matplotlib.pyplot as plt\n",
    "import seaborn as sns\n",
    "from tqdm.auto import tqdm\n",
    "\n",
    "sns.set_style('darkgrid')"
   ]
  },
  {
   "cell_type": "code",
   "execution_count": 5,
   "id": "21359b4f-8a31-4af9-8c48-c994f032730f",
   "metadata": {},
   "outputs": [
    {
     "name": "stderr",
     "output_type": "stream",
     "text": [
      "/usr/local/Cellar/jupyterlab/3.1.14/libexec/lib/python3.9/site-packages/IPython/core/interactiveshell.py:3444: FutureWarning: The error_bad_lines argument has been deprecated and will be removed in a future version.\n",
      "\n",
      "\n",
      "  exec(code_obj, self.user_global_ns, self.user_ns)\n",
      "/usr/local/Cellar/jupyterlab/3.1.14/libexec/lib/python3.9/site-packages/IPython/core/interactiveshell.py:3444: DtypeWarning: Columns (21) have mixed types.Specify dtype option on import or set low_memory=False.\n",
      "  exec(code_obj, self.user_global_ns, self.user_ns)\n"
     ]
    },
    {
     "name": "stdout",
     "output_type": "stream",
     "text": [
      "(1050794, 3)\n"
     ]
    },
    {
     "data": {
      "text/html": [
       "<div>\n",
       "<style scoped>\n",
       "    .dataframe tbody tr th:only-of-type {\n",
       "        vertical-align: middle;\n",
       "    }\n",
       "\n",
       "    .dataframe tbody tr th {\n",
       "        vertical-align: top;\n",
       "    }\n",
       "\n",
       "    .dataframe thead th {\n",
       "        text-align: right;\n",
       "    }\n",
       "</style>\n",
       "<table border=\"1\" class=\"dataframe\">\n",
       "  <thead>\n",
       "    <tr style=\"text-align: right;\">\n",
       "      <th></th>\n",
       "      <th>sentence_idx</th>\n",
       "      <th>word</th>\n",
       "      <th>tag</th>\n",
       "    </tr>\n",
       "  </thead>\n",
       "  <tbody>\n",
       "    <tr>\n",
       "      <th>0</th>\n",
       "      <td>1</td>\n",
       "      <td>Thousands</td>\n",
       "      <td>O</td>\n",
       "    </tr>\n",
       "    <tr>\n",
       "      <th>1</th>\n",
       "      <td>1</td>\n",
       "      <td>of</td>\n",
       "      <td>O</td>\n",
       "    </tr>\n",
       "    <tr>\n",
       "      <th>2</th>\n",
       "      <td>1</td>\n",
       "      <td>demonstrators</td>\n",
       "      <td>O</td>\n",
       "    </tr>\n",
       "    <tr>\n",
       "      <th>3</th>\n",
       "      <td>1</td>\n",
       "      <td>have</td>\n",
       "      <td>O</td>\n",
       "    </tr>\n",
       "    <tr>\n",
       "      <th>4</th>\n",
       "      <td>1</td>\n",
       "      <td>marched</td>\n",
       "      <td>O</td>\n",
       "    </tr>\n",
       "  </tbody>\n",
       "</table>\n",
       "</div>"
      ],
      "text/plain": [
       "   sentence_idx           word tag\n",
       "0             1      Thousands   O\n",
       "1             1             of   O\n",
       "2             1  demonstrators   O\n",
       "3             1           have   O\n",
       "4             1        marched   O"
      ]
     },
     "execution_count": 5,
     "metadata": {},
     "output_type": "execute_result"
    }
   ],
   "source": [
    "data = pd.read_csv(\n",
    "    \"ner.csv\", encoding = \"ISO-8859-1\", error_bad_lines=False, \n",
    "    usecols=['sentence_idx', 'word', 'tag']\n",
    ")\n",
    "data  = data[data['sentence_idx'] != 'prev-lemma'].dropna(subset=['sentence_idx']).reset_index(drop=True)\n",
    "data['sentence_idx'] = data['sentence_idx'].apply(int)\n",
    "print(data.shape)\n",
    "data.head()"
   ]
  },
  {
   "cell_type": "markdown",
   "id": "978ccec6-7d25-442c-a5c0-aef4baf698cd",
   "metadata": {},
   "source": [
    "#### Comments\n",
    "\n",
    "* There are 35,177 sentences in the repository with 22 being the most frequently occuring sentence lenghts in words. \n",
    "* There are 30,172 unique words."
   ]
  },
  {
   "cell_type": "code",
   "execution_count": 6,
   "id": "c5b7c122-8644-4aeb-b981-75b4995ab553",
   "metadata": {},
   "outputs": [
    {
     "name": "stdout",
     "output_type": "stream",
     "text": [
      "Number of Sentences: 35177\n",
      "Maximum sequence length: 140\n",
      "Number of unique words: 30172\n"
     ]
    },
    {
     "data": {
      "image/png": "[encoded data removed]",
      "text/plain": [
       "<Figure size 1440x432 with 1 Axes>"
      ]
     },
     "metadata": {},
     "output_type": "display_data"
    }
   ],
   "source": [
    "fig, ax = plt.subplots(figsize=(20, 6))\n",
    "ax.hist(data['sentence_idx'].value_counts().values, bins=50)\n",
    "ax.set_title('Number of words in each Sentence')\n",
    "\n",
    "maxlen = np.max(data['sentence_idx'].value_counts().values)\n",
    "print('Number of Sentences:', data['sentence_idx'].nunique())\n",
    "print ('Maximum sequence length:', maxlen)\n",
    "\n",
    "words = list(set(data[\"word\"].values))\n",
    "n_words = len(words)\n",
    "print('Number of unique words:', n_words)"
   ]
  },
  {
   "cell_type": "markdown",
   "id": "3af79794-05b4-4c11-96fd-23ef61c46e9e",
   "metadata": {},
   "source": [
    "### Comments\n",
    "\n",
    "Named entity recognition is a task that is well-suited to the type of classifier-based approach. In particular, a tagger can be built that labels each word in a sentence using the IOB format, where chunks are labelled by their appropriate type.\n",
    "\n",
    "The IOB Tagging system contains tags of the form:\n",
    "\n",
    "* B - {CHUNK_TYPE} – for the word in the Beginning chunk\n",
    "* I - {CHUNK_TYPE} – for words Inside the chunk\n",
    "* O – Outside any chunk\n",
    "The IOB tags are further classified into the following classes –\n",
    "\n",
    "* geo = Geographical Entity\n",
    "* org = Organization\n",
    "* per = Person\n",
    "* gpe = Geopolitical Entity\n",
    "* tim = Time indicator\n",
    "* art = Artifact\n",
    "* eve = Event\n",
    "* nat = Natural Phenomenon"
   ]
  },
  {
   "cell_type": "code",
   "execution_count": 9,
   "id": "69d1cc0a-95c2-4f39-938d-0f7d2563b09c",
   "metadata": {},
   "outputs": [
    {
     "name": "stdout",
     "output_type": "stream",
     "text": [
      "Number of unique Tags: 17\n"
     ]
    },
    {
     "data": {
      "image/png": "[encoded data removed]",
      "text/plain": [
       "<Figure size 1440x864 with 2 Axes>"
      ]
     },
     "metadata": {},
     "output_type": "display_data"
    }
   ],
   "source": [
    "fig, ax = plt.subplots(2, 1, figsize=(20, 12))\n",
    "data.tag.value_counts().plot.bar(ax=ax[0], title='Distribution of Tags')\n",
    "data[data.tag != 'O'].tag.value_counts().plot.bar(ax=ax[1], title='Distribution of non-O Tags')\n",
    "\n",
    "tags = list(set(data[\"tag\"].values))\n",
    "n_tags = len(tags)\n",
    "print('Number of unique Tags:', n_tags)"
   ]
  },
  {
   "cell_type": "markdown",
   "id": "115b60ce-452a-4c84-a95c-aecc40fbd5e0",
   "metadata": {},
   "source": [
    "### Modelling"
   ]
  },
  {
   "cell_type": "code",
   "execution_count": 10,
   "id": "cc19bf02-4693-487f-b38d-c94288f630f7",
   "metadata": {},
   "outputs": [],
   "source": [
    "mask = data['sentence_idx'].ne(data['sentence_idx'].shift(-1))\n",
    "data1 = pd.DataFrame('',index=mask.index[mask] + .5, columns=data.columns)\n",
    "\n",
    "data = pd.concat([data, data1]).sort_index().reset_index(drop=True).iloc[:-1]\n",
    "data[['word', 'tag']].to_csv('data.txt', sep=' ', index=False, header=False)"
   ]
  },
  {
   "cell_type": "code",
   "execution_count": 3,
   "id": "22737825-520c-49e5-89b5-73ae1b8e0615",
   "metadata": {},
   "outputs": [],
   "source": [
    "from flair.data import Corpus, Sentence\n",
    "from flair.datasets import ColumnCorpus\n",
    "from flair.embeddings import WordEmbeddings, StackedEmbeddings, TokenEmbeddings\n",
    "from flair.models import SequenceTagger\n",
    "from flair.trainers import ModelTrainer\n",
    "from typing import List"
   ]
  },
  {
   "cell_type": "code",
   "execution_count": 12,
   "id": "bd8227f0-0a57-453f-828f-38969b008463",
   "metadata": {},
   "outputs": [
    {
     "name": "stdout",
     "output_type": "stream",
     "text": [
      "2021-12-06 06:10:20,794 Reading data from .\n",
      "2021-12-06 06:10:20,796 Train: data.txt\n",
      "2021-12-06 06:10:20,797 Dev: None\n",
      "2021-12-06 06:10:20,799 Test: None\n"
     ]
    }
   ],
   "source": [
    "columns = {0 : 'text', 1 : 'tag'}\n",
    "data_folder = '.'\n",
    "\n",
    "corpus: Corpus = ColumnCorpus(data_folder, columns, train_file = 'data.txt')"
   ]
  },
  {
   "cell_type": "code",
   "execution_count": 13,
   "id": "4250df94-a74e-497e-a70a-32aec60e8d70",
   "metadata": {},
   "outputs": [
    {
     "name": "stdout",
     "output_type": "stream",
     "text": [
      "2021-12-06 06:10:41,974 Computing label dictionary. Progress:\n"
     ]
    },
    {
     "name": "stderr",
     "output_type": "stream",
     "text": [
      "100%|██████████████████████████████████████████████████████████████████████████| 38947/38947 [00:02<00:00, 17360.38it/s]\n"
     ]
    },
    {
     "name": "stdout",
     "output_type": "stream",
     "text": [
      "2021-12-06 06:10:44,262 Corpus contains the labels: tag (#851600)\n",
      "2021-12-06 06:10:44,263 Created (for label 'tag') Dictionary with 18 tags: <unk>, O, B-geo, B-gpe, B-per, B-org, I-org, B-tim, B-art, I-art, I-per, I-geo, I-gpe, I-tim, B-nat, B-eve, I-eve, I-nat\n"
     ]
    }
   ],
   "source": [
    "tag_type = 'tag'\n",
    "tag_dictionary = corpus.make_label_dictionary(tag_type)"
   ]
  },
  {
   "cell_type": "code",
   "execution_count": 14,
   "id": "58c204a0-864c-41bf-928b-2bee77c32354",
   "metadata": {},
   "outputs": [],
   "source": [
    "embedding_types : List[TokenEmbeddings] = [WordEmbeddings('glove')]\n",
    "embeddings : StackedEmbeddings = StackedEmbeddings(embeddings=embedding_types)"
   ]
  },
  {
   "cell_type": "code",
   "execution_count": 15,
   "id": "a377ad8c-c2a1-4bfd-93a8-bf03f95e2df6",
   "metadata": {},
   "outputs": [
    {
     "name": "stdout",
     "output_type": "stream",
     "text": [
      "SequenceTagger(\n",
      "  (embeddings): StackedEmbeddings(\n",
      "    (list_embedding_0): WordEmbeddings(\n",
      "      'glove'\n",
      "      (embedding): Embedding(400001, 100)\n",
      "    )\n",
      "  )\n",
      "  (word_dropout): WordDropout(p=0.05)\n",
      "  (locked_dropout): LockedDropout(p=0.5)\n",
      "  (embedding2nn): Linear(in_features=100, out_features=100, bias=True)\n",
      "  (rnn): LSTM(100, 256, batch_first=True, bidirectional=True)\n",
      "  (linear): Linear(in_features=512, out_features=20, bias=True)\n",
      "  (beta): 1.0\n",
      "  (weights): None\n",
      "  (weight_tensor) None\n",
      ")\n"
     ]
    }
   ],
   "source": [
    "tagger : SequenceTagger = SequenceTagger(\n",
    "    hidden_size=256, embeddings=embeddings, tag_dictionary=tag_dictionary, \n",
    "    tag_type=tag_type, use_crf=True\n",
    ")\n",
    "print(tagger)"
   ]
  },
  {
   "cell_type": "code",
   "execution_count": 16,
   "id": "18b7a5f9-1994-48b3-a4df-aa6fc72c6c61",
   "metadata": {},
   "outputs": [
    {
     "name": "stdout",
     "output_type": "stream",
     "text": [
      "2021-12-06 06:11:29,553 ----------------------------------------------------------------------------------------------------\n",
      "2021-12-06 06:11:29,555 Model: \"SequenceTagger(\n",
      "  (embeddings): StackedEmbeddings(\n",
      "    (list_embedding_0): WordEmbeddings(\n",
      "      'glove'\n",
      "      (embedding): Embedding(400001, 100)\n",
      "    )\n",
      "  )\n",
      "  (word_dropout): WordDropout(p=0.05)\n",
      "  (locked_dropout): LockedDropout(p=0.5)\n",
      "  (embedding2nn): Linear(in_features=100, out_features=100, bias=True)\n",
      "  (rnn): LSTM(100, 256, batch_first=True, bidirectional=True)\n",
      "  (linear): Linear(in_features=512, out_features=20, bias=True)\n",
      "  (beta): 1.0\n",
      "  (weights): None\n",
      "  (weight_tensor) None\n",
      ")\"\n",
      "2021-12-06 06:11:29,558 ----------------------------------------------------------------------------------------------------\n",
      "2021-12-06 06:11:29,559 Corpus: \"Corpus: 38947 train + 4328 dev + 4808 test sentences\"\n",
      "2021-12-06 06:11:29,561 ----------------------------------------------------------------------------------------------------\n",
      "2021-12-06 06:11:29,562 Parameters:\n",
      "2021-12-06 06:11:29,563  - learning_rate: \"0.1\"\n",
      "2021-12-06 06:11:29,564  - mini_batch_size: \"32\"\n",
      "2021-12-06 06:11:29,566  - patience: \"3\"\n",
      "2021-12-06 06:11:29,567  - anneal_factor: \"0.5\"\n",
      "2021-12-06 06:11:29,568  - max_epochs: \"15\"\n",
      "2021-12-06 06:11:29,569  - shuffle: \"True\"\n",
      "2021-12-06 06:11:29,571  - train_with_dev: \"False\"\n",
      "2021-12-06 06:11:29,571  - batch_growth_annealing: \"False\"\n",
      "2021-12-06 06:11:29,572 ----------------------------------------------------------------------------------------------------\n",
      "2021-12-06 06:11:29,574 Model training base path: \"model\"\n",
      "2021-12-06 06:11:29,575 ----------------------------------------------------------------------------------------------------\n",
      "2021-12-06 06:11:29,576 Device: cpu\n",
      "2021-12-06 06:11:29,577 ----------------------------------------------------------------------------------------------------\n",
      "2021-12-06 06:11:29,578 Embeddings storage mode: cpu\n",
      "2021-12-06 06:11:29,602 ----------------------------------------------------------------------------------------------------\n"
     ]
    },
    {
     "name": "stderr",
     "output_type": "stream",
     "text": [
      "/Users/rajat.ghosh/Library/Python/3.9/lib/python/site-packages/flair/trainers/trainer.py:64: UserWarning: There should be no best model saved at epoch 1 except there is a model from previous trainings in your training folder. All previous best models will be deleted.\n",
      "  warnings.warn(\n"
     ]
    },
    {
     "name": "stdout",
     "output_type": "stream",
     "text": [
      "2021-12-06 06:11:50,375 epoch 1 - iter 121/1218 - loss 0.69431586 - samples/sec: 186.54 - lr: 0.100000\n",
      "2021-12-06 06:12:12,841 epoch 1 - iter 242/1218 - loss 0.54030170 - samples/sec: 172.46 - lr: 0.100000\n",
      "2021-12-06 06:12:40,230 epoch 1 - iter 363/1218 - loss 0.47341169 - samples/sec: 141.46 - lr: 0.100000\n",
      "2021-12-06 06:13:03,744 epoch 1 - iter 484/1218 - loss 0.43168043 - samples/sec: 164.77 - lr: 0.100000\n",
      "2021-12-06 06:13:35,901 epoch 1 - iter 605/1218 - loss 0.40049074 - samples/sec: 120.48 - lr: 0.100000\n",
      "2021-12-06 06:14:04,021 epoch 1 - iter 726/1218 - loss 0.37773971 - samples/sec: 137.79 - lr: 0.100000\n",
      "2021-12-06 06:14:25,195 epoch 1 - iter 847/1218 - loss 0.35914938 - samples/sec: 182.98 - lr: 0.100000\n",
      "2021-12-06 06:14:47,677 epoch 1 - iter 968/1218 - loss 0.34449900 - samples/sec: 172.33 - lr: 0.100000\n",
      "2021-12-06 06:15:10,804 epoch 1 - iter 1089/1218 - loss 0.33112045 - samples/sec: 167.54 - lr: 0.100000\n",
      "2021-12-06 06:15:34,699 epoch 1 - iter 1210/1218 - loss 0.32062935 - samples/sec: 162.14 - lr: 0.100000\n",
      "2021-12-06 06:15:36,267 ----------------------------------------------------------------------------------------------------\n",
      "2021-12-06 06:15:36,268 EPOCH 1 done: loss 0.3199 - lr 0.1000000\n",
      "2021-12-06 06:15:49,378 DEV : loss 0.1611311286687851 - f1-score (micro avg)  0.7117\n",
      "2021-12-06 06:15:49,493 BAD EPOCHS (no improvement): 0\n",
      "2021-12-06 06:15:49,495 saving best model\n",
      "2021-12-06 06:15:50,417 ----------------------------------------------------------------------------------------------------\n",
      "2021-12-06 06:16:13,870 epoch 2 - iter 121/1218 - loss 0.21606305 - samples/sec: 165.24 - lr: 0.100000\n",
      "2021-12-06 06:16:35,867 epoch 2 - iter 242/1218 - loss 0.21272324 - samples/sec: 176.16 - lr: 0.100000\n",
      "2021-12-06 06:16:59,730 epoch 2 - iter 363/1218 - loss 0.21276983 - samples/sec: 162.39 - lr: 0.100000\n",
      "2021-12-06 06:17:23,783 epoch 2 - iter 484/1218 - loss 0.20939641 - samples/sec: 161.10 - lr: 0.100000\n",
      "2021-12-06 06:17:46,846 epoch 2 - iter 605/1218 - loss 0.20792649 - samples/sec: 168.02 - lr: 0.100000\n",
      "2021-12-06 06:18:08,700 epoch 2 - iter 726/1218 - loss 0.20608555 - samples/sec: 177.31 - lr: 0.100000\n",
      "2021-12-06 06:18:31,465 epoch 2 - iter 847/1218 - loss 0.20531565 - samples/sec: 170.22 - lr: 0.100000\n",
      "2021-12-06 06:18:55,349 epoch 2 - iter 968/1218 - loss 0.20386034 - samples/sec: 162.24 - lr: 0.100000\n",
      "2021-12-06 06:19:21,693 epoch 2 - iter 1089/1218 - loss 0.20252270 - samples/sec: 147.10 - lr: 0.100000\n",
      "2021-12-06 06:19:49,355 epoch 2 - iter 1210/1218 - loss 0.20127919 - samples/sec: 140.09 - lr: 0.100000\n",
      "2021-12-06 06:19:50,703 ----------------------------------------------------------------------------------------------------\n",
      "2021-12-06 06:19:50,704 EPOCH 2 done: loss 0.2011 - lr 0.1000000\n",
      "2021-12-06 06:20:01,736 DEV : loss 0.12315685302019119 - f1-score (micro avg)  0.7551\n",
      "2021-12-06 06:20:01,883 BAD EPOCHS (no improvement): 0\n",
      "2021-12-06 06:20:01,886 saving best model\n",
      "2021-12-06 06:20:02,469 ----------------------------------------------------------------------------------------------------\n",
      "2021-12-06 06:20:25,221 epoch 3 - iter 121/1218 - loss 0.18826632 - samples/sec: 170.34 - lr: 0.100000\n",
      "2021-12-06 06:20:49,421 epoch 3 - iter 242/1218 - loss 0.18386490 - samples/sec: 160.12 - lr: 0.100000\n",
      "2021-12-06 06:21:12,145 epoch 3 - iter 363/1218 - loss 0.18339093 - samples/sec: 170.52 - lr: 0.100000\n",
      "2021-12-06 06:21:35,908 epoch 3 - iter 484/1218 - loss 0.18293585 - samples/sec: 163.07 - lr: 0.100000\n",
      "2021-12-06 06:21:58,822 epoch 3 - iter 605/1218 - loss 0.18347399 - samples/sec: 169.11 - lr: 0.100000\n",
      "2021-12-06 06:22:24,551 epoch 3 - iter 726/1218 - loss 0.18269266 - samples/sec: 150.61 - lr: 0.100000\n",
      "2021-12-06 06:22:47,482 epoch 3 - iter 847/1218 - loss 0.18147172 - samples/sec: 168.98 - lr: 0.100000\n",
      "2021-12-06 06:23:11,728 epoch 3 - iter 968/1218 - loss 0.18133405 - samples/sec: 159.83 - lr: 0.100000\n",
      "2021-12-06 06:23:34,285 epoch 3 - iter 1089/1218 - loss 0.18066545 - samples/sec: 171.79 - lr: 0.100000\n",
      "2021-12-06 06:23:57,626 epoch 3 - iter 1210/1218 - loss 0.17999726 - samples/sec: 166.01 - lr: 0.100000\n",
      "2021-12-06 06:23:59,140 ----------------------------------------------------------------------------------------------------\n",
      "2021-12-06 06:23:59,142 EPOCH 3 done: loss 0.1799 - lr 0.1000000\n",
      "2021-12-06 06:24:10,823 DEV : loss 0.11926887184381485 - f1-score (micro avg)  0.758\n",
      "2021-12-06 06:24:10,956 BAD EPOCHS (no improvement): 0\n",
      "2021-12-06 06:24:10,958 saving best model\n",
      "2021-12-06 06:24:11,628 ----------------------------------------------------------------------------------------------------\n",
      "2021-12-06 06:24:33,510 epoch 4 - iter 121/1218 - loss 0.17410642 - samples/sec: 177.12 - lr: 0.100000\n",
      "2021-12-06 06:24:56,364 epoch 4 - iter 242/1218 - loss 0.17294348 - samples/sec: 169.56 - lr: 0.100000\n",
      "2021-12-06 06:25:19,009 epoch 4 - iter 363/1218 - loss 0.17008603 - samples/sec: 171.12 - lr: 0.100000\n",
      "2021-12-06 06:25:41,583 epoch 4 - iter 484/1218 - loss 0.16986101 - samples/sec: 171.66 - lr: 0.100000\n",
      "2021-12-06 06:26:04,392 epoch 4 - iter 605/1218 - loss 0.16981795 - samples/sec: 169.90 - lr: 0.100000\n",
      "2021-12-06 06:26:26,038 epoch 4 - iter 726/1218 - loss 0.16950468 - samples/sec: 179.01 - lr: 0.100000\n",
      "2021-12-06 06:26:49,231 epoch 4 - iter 847/1218 - loss 0.16878363 - samples/sec: 167.09 - lr: 0.100000\n",
      "2021-12-06 06:27:10,225 epoch 4 - iter 968/1218 - loss 0.16889007 - samples/sec: 184.57 - lr: 0.100000\n",
      "2021-12-06 06:27:31,439 epoch 4 - iter 1089/1218 - loss 0.16871552 - samples/sec: 182.67 - lr: 0.100000\n",
      "2021-12-06 06:27:52,944 epoch 4 - iter 1210/1218 - loss 0.16808815 - samples/sec: 180.19 - lr: 0.100000\n",
      "2021-12-06 06:27:54,350 ----------------------------------------------------------------------------------------------------\n",
      "2021-12-06 06:27:54,351 EPOCH 4 done: loss 0.1680 - lr 0.1000000\n",
      "2021-12-06 06:28:07,500 DEV : loss 0.1123899295926094 - f1-score (micro avg)  0.7715\n",
      "2021-12-06 06:28:07,638 BAD EPOCHS (no improvement): 0\n",
      "2021-12-06 06:28:07,640 saving best model\n",
      "2021-12-06 06:28:08,200 ----------------------------------------------------------------------------------------------------\n",
      "2021-12-06 06:28:29,120 epoch 5 - iter 121/1218 - loss 0.16558085 - samples/sec: 185.25 - lr: 0.100000\n",
      "2021-12-06 06:28:51,970 epoch 5 - iter 242/1218 - loss 0.16511629 - samples/sec: 169.59 - lr: 0.100000\n",
      "2021-12-06 06:29:14,175 epoch 5 - iter 363/1218 - loss 0.16478501 - samples/sec: 174.51 - lr: 0.100000\n",
      "2021-12-06 06:29:37,185 epoch 5 - iter 484/1218 - loss 0.16376543 - samples/sec: 168.41 - lr: 0.100000\n",
      "2021-12-06 06:29:59,934 epoch 5 - iter 605/1218 - loss 0.16213757 - samples/sec: 170.34 - lr: 0.100000\n",
      "2021-12-06 06:30:21,720 epoch 5 - iter 726/1218 - loss 0.16226426 - samples/sec: 177.87 - lr: 0.100000\n",
      "2021-12-06 06:30:45,694 epoch 5 - iter 847/1218 - loss 0.16220846 - samples/sec: 161.63 - lr: 0.100000\n",
      "2021-12-06 06:31:07,026 epoch 5 - iter 968/1218 - loss 0.16205165 - samples/sec: 181.66 - lr: 0.100000\n",
      "2021-12-06 06:31:30,816 epoch 5 - iter 1089/1218 - loss 0.16129075 - samples/sec: 162.88 - lr: 0.100000\n",
      "2021-12-06 06:31:51,869 epoch 5 - iter 1210/1218 - loss 0.16078984 - samples/sec: 184.06 - lr: 0.100000\n",
      "2021-12-06 06:31:53,036 ----------------------------------------------------------------------------------------------------\n",
      "2021-12-06 06:31:53,037 EPOCH 5 done: loss 0.1609 - lr 0.1000000\n",
      "2021-12-06 06:32:03,142 DEV : loss 0.10459192097187042 - f1-score (micro avg)  0.778\n",
      "2021-12-06 06:32:03,259 BAD EPOCHS (no improvement): 0\n",
      "2021-12-06 06:32:03,261 saving best model\n",
      "2021-12-06 06:32:03,765 ----------------------------------------------------------------------------------------------------\n",
      "2021-12-06 06:32:25,112 epoch 6 - iter 121/1218 - loss 0.15764539 - samples/sec: 181.55 - lr: 0.100000\n",
      "2021-12-06 06:32:50,273 epoch 6 - iter 242/1218 - loss 0.15399585 - samples/sec: 154.01 - lr: 0.100000\n",
      "2021-12-06 06:33:15,464 epoch 6 - iter 363/1218 - loss 0.15566749 - samples/sec: 153.82 - lr: 0.100000\n",
      "2021-12-06 06:33:36,797 epoch 6 - iter 484/1218 - loss 0.15551458 - samples/sec: 181.66 - lr: 0.100000\n",
      "2021-12-06 06:33:56,757 epoch 6 - iter 605/1218 - loss 0.15530371 - samples/sec: 194.14 - lr: 0.100000\n",
      "2021-12-06 06:34:17,096 epoch 6 - iter 726/1218 - loss 0.15493909 - samples/sec: 190.52 - lr: 0.100000\n",
      "2021-12-06 06:34:36,621 epoch 6 - iter 847/1218 - loss 0.15567657 - samples/sec: 198.62 - lr: 0.100000\n",
      "2021-12-06 06:34:55,999 epoch 6 - iter 968/1218 - loss 0.15513771 - samples/sec: 199.99 - lr: 0.100000\n",
      "2021-12-06 06:35:16,043 epoch 6 - iter 1089/1218 - loss 0.15578808 - samples/sec: 193.32 - lr: 0.100000\n",
      "2021-12-06 06:35:35,624 epoch 6 - iter 1210/1218 - loss 0.15575466 - samples/sec: 197.90 - lr: 0.100000\n",
      "2021-12-06 06:35:36,787 ----------------------------------------------------------------------------------------------------\n",
      "2021-12-06 06:35:36,788 EPOCH 6 done: loss 0.1558 - lr 0.1000000\n",
      "2021-12-06 06:35:46,268 DEV : loss 0.10369651764631271 - f1-score (micro avg)  0.7862\n",
      "2021-12-06 06:35:46,391 BAD EPOCHS (no improvement): 0\n",
      "2021-12-06 06:35:46,394 saving best model\n",
      "2021-12-06 06:35:46,895 ----------------------------------------------------------------------------------------------------\n",
      "2021-12-06 06:36:06,897 epoch 7 - iter 121/1218 - loss 0.15595718 - samples/sec: 193.74 - lr: 0.100000\n",
      "2021-12-06 06:36:26,676 epoch 7 - iter 242/1218 - loss 0.15404634 - samples/sec: 195.91 - lr: 0.100000\n",
      "2021-12-06 06:36:46,253 epoch 7 - iter 363/1218 - loss 0.15395371 - samples/sec: 197.94 - lr: 0.100000\n",
      "2021-12-06 06:37:05,981 epoch 7 - iter 484/1218 - loss 0.15361639 - samples/sec: 196.42 - lr: 0.100000\n",
      "2021-12-06 06:37:25,760 epoch 7 - iter 605/1218 - loss 0.15308212 - samples/sec: 195.91 - lr: 0.100000\n",
      "2021-12-06 06:37:45,492 epoch 7 - iter 726/1218 - loss 0.15315765 - samples/sec: 196.38 - lr: 0.100000\n",
      "2021-12-06 06:38:05,066 epoch 7 - iter 847/1218 - loss 0.15240725 - samples/sec: 197.96 - lr: 0.100000\n",
      "2021-12-06 06:38:24,445 epoch 7 - iter 968/1218 - loss 0.15279289 - samples/sec: 199.96 - lr: 0.100000\n",
      "2021-12-06 06:38:43,993 epoch 7 - iter 1089/1218 - loss 0.15265364 - samples/sec: 198.23 - lr: 0.100000\n",
      "2021-12-06 06:39:03,524 epoch 7 - iter 1210/1218 - loss 0.15200871 - samples/sec: 198.41 - lr: 0.100000\n",
      "2021-12-06 06:39:04,773 ----------------------------------------------------------------------------------------------------\n",
      "2021-12-06 06:39:04,774 EPOCH 7 done: loss 0.1520 - lr 0.1000000\n",
      "2021-12-06 06:39:16,936 DEV : loss 0.09958409518003464 - f1-score (micro avg)  0.7906\n",
      "2021-12-06 06:39:17,055 BAD EPOCHS (no improvement): 0\n",
      "2021-12-06 06:39:17,056 saving best model\n",
      "2021-12-06 06:39:17,545 ----------------------------------------------------------------------------------------------------\n",
      "2021-12-06 06:39:36,900 epoch 8 - iter 121/1218 - loss 0.15059830 - samples/sec: 200.23 - lr: 0.100000\n",
      "2021-12-06 06:39:56,162 epoch 8 - iter 242/1218 - loss 0.14928120 - samples/sec: 201.18 - lr: 0.100000\n",
      "2021-12-06 06:40:15,654 epoch 8 - iter 363/1218 - loss 0.14887805 - samples/sec: 198.79 - lr: 0.100000\n",
      "2021-12-06 06:40:35,745 epoch 8 - iter 484/1218 - loss 0.15001245 - samples/sec: 192.88 - lr: 0.100000\n",
      "2021-12-06 06:40:55,127 epoch 8 - iter 605/1218 - loss 0.15019271 - samples/sec: 199.93 - lr: 0.100000\n",
      "2021-12-06 06:41:16,895 epoch 8 - iter 726/1218 - loss 0.14972002 - samples/sec: 178.02 - lr: 0.100000\n",
      "2021-12-06 06:41:39,036 epoch 8 - iter 847/1218 - loss 0.15002800 - samples/sec: 175.01 - lr: 0.100000\n",
      "2021-12-06 06:42:00,156 epoch 8 - iter 968/1218 - loss 0.15026451 - samples/sec: 183.48 - lr: 0.100000\n",
      "2021-12-06 06:42:21,999 epoch 8 - iter 1089/1218 - loss 0.14986861 - samples/sec: 177.40 - lr: 0.100000\n",
      "2021-12-06 06:42:42,832 epoch 8 - iter 1210/1218 - loss 0.14979545 - samples/sec: 186.01 - lr: 0.100000\n",
      "2021-12-06 06:42:44,009 ----------------------------------------------------------------------------------------------------\n",
      "2021-12-06 06:42:44,010 EPOCH 8 done: loss 0.1497 - lr 0.1000000\n",
      "2021-12-06 06:42:53,704 DEV : loss 0.09771717339754105 - f1-score (micro avg)  0.791\n",
      "2021-12-06 06:42:53,824 BAD EPOCHS (no improvement): 0\n",
      "2021-12-06 06:42:53,827 saving best model\n",
      "2021-12-06 06:42:54,390 ----------------------------------------------------------------------------------------------------\n",
      "2021-12-06 06:43:15,258 epoch 9 - iter 121/1218 - loss 0.14499956 - samples/sec: 185.71 - lr: 0.100000\n",
      "2021-12-06 06:43:36,298 epoch 9 - iter 242/1218 - loss 0.14678559 - samples/sec: 184.18 - lr: 0.100000\n",
      "2021-12-06 06:43:57,599 epoch 9 - iter 363/1218 - loss 0.14829856 - samples/sec: 181.92 - lr: 0.100000\n",
      "2021-12-06 06:44:20,203 epoch 9 - iter 484/1218 - loss 0.14946334 - samples/sec: 171.43 - lr: 0.100000\n",
      "2021-12-06 06:44:41,157 epoch 9 - iter 605/1218 - loss 0.14864072 - samples/sec: 184.93 - lr: 0.100000\n",
      "2021-12-06 06:45:01,967 epoch 9 - iter 726/1218 - loss 0.14860841 - samples/sec: 186.21 - lr: 0.100000\n",
      "2021-12-06 06:45:23,352 epoch 9 - iter 847/1218 - loss 0.14809709 - samples/sec: 181.21 - lr: 0.100000\n",
      "2021-12-06 06:45:44,531 epoch 9 - iter 968/1218 - loss 0.14736785 - samples/sec: 182.96 - lr: 0.100000\n",
      "2021-12-06 06:46:04,970 epoch 9 - iter 1089/1218 - loss 0.14664614 - samples/sec: 189.58 - lr: 0.100000\n",
      "2021-12-06 06:46:25,944 epoch 9 - iter 1210/1218 - loss 0.14637469 - samples/sec: 184.76 - lr: 0.100000\n",
      "2021-12-06 06:46:27,328 ----------------------------------------------------------------------------------------------------\n",
      "2021-12-06 06:46:27,329 EPOCH 9 done: loss 0.1464 - lr 0.1000000\n",
      "2021-12-06 06:46:37,267 DEV : loss 0.09650711715221405 - f1-score (micro avg)  0.7909\n",
      "2021-12-06 06:46:37,388 BAD EPOCHS (no improvement): 1\n",
      "2021-12-06 06:46:37,390 ----------------------------------------------------------------------------------------------------\n",
      "2021-12-06 06:46:59,000 epoch 10 - iter 121/1218 - loss 0.14759524 - samples/sec: 179.34 - lr: 0.100000\n",
      "2021-12-06 06:47:20,578 epoch 10 - iter 242/1218 - loss 0.14481474 - samples/sec: 179.59 - lr: 0.100000\n",
      "2021-12-06 06:47:41,899 epoch 10 - iter 363/1218 - loss 0.14571488 - samples/sec: 181.74 - lr: 0.100000\n",
      "2021-12-06 06:48:02,563 epoch 10 - iter 484/1218 - loss 0.14623039 - samples/sec: 187.53 - lr: 0.100000\n",
      "2021-12-06 06:48:23,271 epoch 10 - iter 605/1218 - loss 0.14573792 - samples/sec: 187.11 - lr: 0.100000\n",
      "2021-12-06 06:48:44,576 epoch 10 - iter 726/1218 - loss 0.14581823 - samples/sec: 181.89 - lr: 0.100000\n",
      "2021-12-06 06:49:05,291 epoch 10 - iter 847/1218 - loss 0.14597361 - samples/sec: 187.07 - lr: 0.100000\n",
      "2021-12-06 06:49:26,551 epoch 10 - iter 968/1218 - loss 0.14561361 - samples/sec: 182.27 - lr: 0.100000\n",
      "2021-12-06 06:49:47,740 epoch 10 - iter 1089/1218 - loss 0.14556932 - samples/sec: 182.88 - lr: 0.100000\n",
      "2021-12-06 06:50:08,762 epoch 10 - iter 1210/1218 - loss 0.14545518 - samples/sec: 184.34 - lr: 0.100000\n",
      "2021-12-06 06:50:09,971 ----------------------------------------------------------------------------------------------------\n",
      "2021-12-06 06:50:09,972 EPOCH 10 done: loss 0.1454 - lr 0.1000000\n",
      "2021-12-06 06:50:22,268 DEV : loss 0.09649649262428284 - f1-score (micro avg)  0.792\n",
      "2021-12-06 06:50:22,397 BAD EPOCHS (no improvement): 0\n",
      "2021-12-06 06:50:22,400 saving best model\n",
      "2021-12-06 06:50:22,974 ----------------------------------------------------------------------------------------------------\n",
      "2021-12-06 06:50:44,234 epoch 11 - iter 121/1218 - loss 0.14026765 - samples/sec: 182.28 - lr: 0.100000\n",
      "2021-12-06 06:51:06,406 epoch 11 - iter 242/1218 - loss 0.14161732 - samples/sec: 174.77 - lr: 0.100000\n",
      "2021-12-06 06:51:27,922 epoch 11 - iter 363/1218 - loss 0.14367217 - samples/sec: 180.11 - lr: 0.100000\n",
      "2021-12-06 06:51:49,540 epoch 11 - iter 484/1218 - loss 0.14416993 - samples/sec: 179.24 - lr: 0.100000\n",
      "2021-12-06 06:52:11,193 epoch 11 - iter 605/1218 - loss 0.14422702 - samples/sec: 178.96 - lr: 0.100000\n",
      "2021-12-06 06:52:32,099 epoch 11 - iter 726/1218 - loss 0.14447142 - samples/sec: 185.35 - lr: 0.100000\n",
      "2021-12-06 06:52:52,684 epoch 11 - iter 847/1218 - loss 0.14452738 - samples/sec: 188.25 - lr: 0.100000\n",
      "2021-12-06 06:53:14,521 epoch 11 - iter 968/1218 - loss 0.14396113 - samples/sec: 177.45 - lr: 0.100000\n",
      "2021-12-06 06:53:35,303 epoch 11 - iter 1089/1218 - loss 0.14367102 - samples/sec: 186.46 - lr: 0.100000\n",
      "2021-12-06 06:53:56,392 epoch 11 - iter 1210/1218 - loss 0.14361052 - samples/sec: 183.74 - lr: 0.100000\n",
      "2021-12-06 06:53:57,605 ----------------------------------------------------------------------------------------------------\n",
      "2021-12-06 06:53:57,606 EPOCH 11 done: loss 0.1436 - lr 0.1000000\n",
      "2021-12-06 06:54:08,271 DEV : loss 0.0968078002333641 - f1-score (micro avg)  0.7899\n",
      "2021-12-06 06:54:08,407 BAD EPOCHS (no improvement): 1\n",
      "2021-12-06 06:54:08,410 ----------------------------------------------------------------------------------------------------\n",
      "2021-12-06 06:54:30,090 epoch 12 - iter 121/1218 - loss 0.13991441 - samples/sec: 178.77 - lr: 0.100000\n",
      "2021-12-06 06:54:51,990 epoch 12 - iter 242/1218 - loss 0.13944332 - samples/sec: 176.93 - lr: 0.100000\n",
      "2021-12-06 06:55:13,246 epoch 12 - iter 363/1218 - loss 0.13975275 - samples/sec: 182.31 - lr: 0.100000\n",
      "2021-12-06 06:55:34,394 epoch 12 - iter 484/1218 - loss 0.14070858 - samples/sec: 183.24 - lr: 0.100000\n",
      "2021-12-06 06:55:55,365 epoch 12 - iter 605/1218 - loss 0.14093779 - samples/sec: 184.79 - lr: 0.100000\n",
      "2021-12-06 06:56:16,676 epoch 12 - iter 726/1218 - loss 0.14113973 - samples/sec: 181.84 - lr: 0.100000\n",
      "2021-12-06 06:56:41,739 epoch 12 - iter 847/1218 - loss 0.14153429 - samples/sec: 154.63 - lr: 0.100000\n",
      "2021-12-06 06:57:03,135 epoch 12 - iter 968/1218 - loss 0.14196985 - samples/sec: 181.12 - lr: 0.100000\n",
      "2021-12-06 06:57:24,033 epoch 12 - iter 1089/1218 - loss 0.14213527 - samples/sec: 185.42 - lr: 0.100000\n",
      "2021-12-06 06:57:45,310 epoch 12 - iter 1210/1218 - loss 0.14170914 - samples/sec: 182.14 - lr: 0.100000\n",
      "2021-12-06 06:57:46,592 ----------------------------------------------------------------------------------------------------\n",
      "2021-12-06 06:57:46,593 EPOCH 12 done: loss 0.1418 - lr 0.1000000\n",
      "2021-12-06 06:57:57,015 DEV : loss 0.09470357745885849 - f1-score (micro avg)  0.7936\n",
      "2021-12-06 06:57:57,137 BAD EPOCHS (no improvement): 0\n",
      "2021-12-06 06:57:57,140 saving best model\n",
      "2021-12-06 06:57:57,745 ----------------------------------------------------------------------------------------------------\n",
      "2021-12-06 06:58:18,825 epoch 13 - iter 121/1218 - loss 0.14154569 - samples/sec: 183.84 - lr: 0.100000\n",
      "2021-12-06 06:58:39,381 epoch 13 - iter 242/1218 - loss 0.13942449 - samples/sec: 188.51 - lr: 0.100000\n",
      "2021-12-06 06:59:00,976 epoch 13 - iter 363/1218 - loss 0.14077989 - samples/sec: 179.45 - lr: 0.100000\n",
      "2021-12-06 06:59:22,352 epoch 13 - iter 484/1218 - loss 0.13935342 - samples/sec: 181.27 - lr: 0.100000\n",
      "2021-12-06 06:59:43,769 epoch 13 - iter 605/1218 - loss 0.14002696 - samples/sec: 180.93 - lr: 0.100000\n",
      "2021-12-06 07:00:05,513 epoch 13 - iter 726/1218 - loss 0.14013239 - samples/sec: 178.21 - lr: 0.100000\n",
      "2021-12-06 07:00:26,823 epoch 13 - iter 847/1218 - loss 0.14073811 - samples/sec: 181.83 - lr: 0.100000\n",
      "2021-12-06 07:00:49,102 epoch 13 - iter 968/1218 - loss 0.14028100 - samples/sec: 173.93 - lr: 0.100000\n",
      "2021-12-06 07:01:11,000 epoch 13 - iter 1089/1218 - loss 0.14089930 - samples/sec: 177.04 - lr: 0.100000\n",
      "2021-12-06 07:01:31,050 epoch 13 - iter 1210/1218 - loss 0.14050039 - samples/sec: 193.27 - lr: 0.100000\n",
      "2021-12-06 07:01:32,390 ----------------------------------------------------------------------------------------------------\n",
      "2021-12-06 07:01:32,391 EPOCH 13 done: loss 0.1406 - lr 0.1000000\n",
      "2021-12-06 07:01:45,172 DEV : loss 0.09376131743192673 - f1-score (micro avg)  0.7959\n",
      "2021-12-06 07:01:45,296 BAD EPOCHS (no improvement): 0\n",
      "2021-12-06 07:01:45,298 saving best model\n",
      "2021-12-06 07:01:45,810 ----------------------------------------------------------------------------------------------------\n",
      "2021-12-06 07:02:05,703 epoch 14 - iter 121/1218 - loss 0.13815284 - samples/sec: 194.81 - lr: 0.100000\n",
      "2021-12-06 07:02:26,078 epoch 14 - iter 242/1218 - loss 0.13917809 - samples/sec: 190.18 - lr: 0.100000\n",
      "2021-12-06 07:02:46,181 epoch 14 - iter 363/1218 - loss 0.14020871 - samples/sec: 192.76 - lr: 0.100000\n",
      "2021-12-06 07:03:07,633 epoch 14 - iter 484/1218 - loss 0.14032075 - samples/sec: 180.63 - lr: 0.100000\n",
      "2021-12-06 07:03:42,662 epoch 14 - iter 605/1218 - loss 0.14011150 - samples/sec: 110.61 - lr: 0.100000\n",
      "2021-12-06 07:04:14,613 epoch 14 - iter 726/1218 - loss 0.13985391 - samples/sec: 121.27 - lr: 0.100000\n",
      "2021-12-06 07:04:47,677 epoch 14 - iter 847/1218 - loss 0.13963249 - samples/sec: 117.20 - lr: 0.100000\n",
      "2021-12-06 07:05:15,454 epoch 14 - iter 968/1218 - loss 0.13986836 - samples/sec: 139.51 - lr: 0.100000\n",
      "2021-12-06 07:05:37,591 epoch 14 - iter 1089/1218 - loss 0.13963642 - samples/sec: 175.05 - lr: 0.100000\n",
      "2021-12-06 07:05:59,520 epoch 14 - iter 1210/1218 - loss 0.13946376 - samples/sec: 176.70 - lr: 0.100000\n",
      "2021-12-06 07:06:00,698 ----------------------------------------------------------------------------------------------------\n",
      "2021-12-06 07:06:00,698 EPOCH 14 done: loss 0.1394 - lr 0.1000000\n",
      "2021-12-06 07:06:10,919 DEV : loss 0.0918097198009491 - f1-score (micro avg)  0.8005\n",
      "2021-12-06 07:06:11,045 BAD EPOCHS (no improvement): 0\n",
      "2021-12-06 07:06:11,047 saving best model\n",
      "2021-12-06 07:06:11,580 ----------------------------------------------------------------------------------------------------\n",
      "2021-12-06 07:06:32,979 epoch 15 - iter 121/1218 - loss 0.13773659 - samples/sec: 181.10 - lr: 0.100000\n",
      "2021-12-06 07:06:53,595 epoch 15 - iter 242/1218 - loss 0.13802010 - samples/sec: 187.96 - lr: 0.100000\n",
      "2021-12-06 07:07:14,928 epoch 15 - iter 363/1218 - loss 0.13721679 - samples/sec: 181.64 - lr: 0.100000\n",
      "2021-12-06 07:07:39,526 epoch 15 - iter 484/1218 - loss 0.13801856 - samples/sec: 157.54 - lr: 0.100000\n",
      "2021-12-06 07:08:01,102 epoch 15 - iter 605/1218 - loss 0.13838141 - samples/sec: 179.60 - lr: 0.100000\n",
      "2021-12-06 07:08:21,745 epoch 15 - iter 726/1218 - loss 0.13841564 - samples/sec: 187.71 - lr: 0.100000\n",
      "2021-12-06 07:08:43,340 epoch 15 - iter 847/1218 - loss 0.13805966 - samples/sec: 179.44 - lr: 0.100000\n",
      "2021-12-06 07:09:04,874 epoch 15 - iter 968/1218 - loss 0.13775271 - samples/sec: 179.95 - lr: 0.100000\n",
      "2021-12-06 07:09:27,095 epoch 15 - iter 1089/1218 - loss 0.13808690 - samples/sec: 174.39 - lr: 0.100000\n",
      "2021-12-06 07:09:47,399 epoch 15 - iter 1210/1218 - loss 0.13780248 - samples/sec: 190.85 - lr: 0.100000\n",
      "2021-12-06 07:09:48,654 ----------------------------------------------------------------------------------------------------\n",
      "2021-12-06 07:09:48,655 EPOCH 15 done: loss 0.1379 - lr 0.1000000\n",
      "2021-12-06 07:09:58,637 DEV : loss 0.09132639318704605 - f1-score (micro avg)  0.7949\n",
      "2021-12-06 07:09:58,758 BAD EPOCHS (no improvement): 1\n",
      "2021-12-06 07:09:59,286 ----------------------------------------------------------------------------------------------------\n",
      "2021-12-06 07:09:59,287 loading file model/best-model.pt\n",
      "2021-12-06 07:10:15,587 0.8206\t0.7938\t0.807\t0.7174\n",
      "2021-12-06 07:10:15,589 \n",
      "Results:\n",
      "- F-score (micro) 0.807\n",
      "- F-score (macro) 0.5958\n",
      "- Accuracy 0.7174\n",
      "\n",
      "By class:\n",
      "              precision    recall  f1-score   support\n",
      "\n",
      "         geo     0.7932    0.8983    0.8425      3689\n",
      "         tim     0.8700    0.8687    0.8694      2019\n",
      "         org     0.7799    0.5017    0.6106      2105\n",
      "         per     0.7617    0.7706    0.7661      1696\n",
      "         gpe     0.9320    0.9088    0.9203      1645\n",
      "         eve     0.7692    0.2326    0.3571        43\n",
      "         art     0.0000    0.0000    0.0000        47\n",
      "         nat     0.4706    0.3478    0.4000        23\n",
      "\n",
      "   micro avg     0.8206    0.7938    0.8070     11267\n",
      "   macro avg     0.6721    0.5661    0.5958     11267\n",
      "weighted avg     0.8160    0.7938    0.7976     11267\n",
      " samples avg     0.7174    0.7174    0.7174     11267\n",
      "\n",
      "2021-12-06 07:10:15,590 ----------------------------------------------------------------------------------------------------\n"
     ]
    },
    {
     "data": {
      "text/plain": [
       "{'test_score': 0.806965308792349,\n",
       " 'dev_score_history': [0.7116816716683338,\n",
       "  0.7550729984715122,\n",
       "  0.7580186973813335,\n",
       "  0.7714579055441478,\n",
       "  0.7779764032892384,\n",
       "  0.7862448703963428,\n",
       "  0.7905834186284545,\n",
       "  0.7910211177583474,\n",
       "  0.7909270216962525,\n",
       "  0.7920268483677413,\n",
       "  0.7898871877518131,\n",
       "  0.7936283185840708,\n",
       "  0.7959246051961284,\n",
       "  0.8004879784476185,\n",
       "  0.7948613791002336],\n",
       " 'train_loss_history': [0.31989428988304874,\n",
       "  0.20114687849289378,\n",
       "  0.1798615436052257,\n",
       "  0.1680163265450452,\n",
       "  0.1609402766659989,\n",
       "  0.15581015773645976,\n",
       "  0.1519884788850038,\n",
       "  0.14974649016316255,\n",
       "  0.14636980989831555,\n",
       "  0.14540230408359883,\n",
       "  0.14361384017302878,\n",
       "  0.1417896346230639,\n",
       "  0.14055476008137943,\n",
       "  0.1394249412318024,\n",
       "  0.1379107620325263],\n",
       " 'dev_loss_history': [tensor(0.1611),\n",
       "  tensor(0.1232),\n",
       "  tensor(0.1193),\n",
       "  tensor(0.1124),\n",
       "  tensor(0.1046),\n",
       "  tensor(0.1037),\n",
       "  tensor(0.0996),\n",
       "  tensor(0.0977),\n",
       "  tensor(0.0965),\n",
       "  tensor(0.0965),\n",
       "  tensor(0.0968),\n",
       "  tensor(0.0947),\n",
       "  tensor(0.0938),\n",
       "  tensor(0.0918),\n",
       "  tensor(0.0913)]}"
      ]
     },
     "execution_count": 16,
     "metadata": {},
     "output_type": "execute_result"
    }
   ],
   "source": [
    "trainer : ModelTrainer = ModelTrainer(tagger, corpus)\n",
    "trainer.train('model', learning_rate=0.1, mini_batch_size=32, max_epochs=15)"
   ]
  },
  {
   "cell_type": "code",
   "execution_count": 4,
   "id": "f51d5ede-9295-4c9d-8673-c0a2870e1325",
   "metadata": {},
   "outputs": [
    {
     "name": "stdout",
     "output_type": "stream",
     "text": [
      "2021-12-06 14:31:21,055 loading file model/final-model.pt\n",
      "Rajat <B-per> went to Georgia <B-geo> Tech <I-geo> , Atlanta <B-geo> . Rajat lives in San <B-geo> Jose <I-geo> , USA <B-geo> and works at Nutanix <B-geo> .\n"
     ]
    }
   ],
   "source": [
    "model = SequenceTagger.load('model/final-model.pt')\n",
    "\n",
    "sentence = Sentence('Rajat went to Georgia Tech, Atlanta. Rajat lives in San Jose, USA and works at Nutanix.')\n",
    "\n",
    "model.predict(sentence)\n",
    "print(sentence.to_tagged_string())\n"
   ]
  },
  {
   "cell_type": "code",
   "execution_count": null,
   "id": "0e61d57e-2e25-4f57-9695-da1af4f07ee3",
   "metadata": {},
   "outputs": [],
   "source": []
  }
 ],
 "metadata": {
  "kernelspec": {
   "display_name": "Python 3 (ipykernel)",
   "language": "python",
   "name": "python3"
  },
  "language_info": {
   "codemirror_mode": {
    "name": "ipython",
    "version": 3
   },
   "file_extension": ".py",
   "mimetype": "text/x-python",
   "name": "python",
   "nbconvert_exporter": "python",
   "pygments_lexer": "ipython3",
   "version": "3.9.7"
  }
 },
 "nbformat": 4,
 "nbformat_minor": 5
}
