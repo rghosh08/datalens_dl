{
 "cells": [
  {
   "cell_type": "markdown",
   "id": "0e7728e7-e62b-4b94-b3df-bf60beded501",
   "metadata": {},
   "source": [
    "### Abstract\n",
    "\n",
    "#### This notebook pertains to non-deterministic clustering for novelty detection in unstructured log data."
   ]
  },
  {
   "cell_type": "markdown",
   "id": "3ec1a172-f476-4886-9f82-b5b82cade0d7",
   "metadata": {},
   "source": [
    "### Non-Deterministic Clustering (Generalized Expectation Maximization: Gaussian Mixture Models¶)\n",
    "\n",
    "A Gaussian mixture model (GMM) attempts to find a mixture of multi-dimensional Gaussian probability distributions that best model any input dataset. In the simplest case, GMMs can be used for finding clusters in the same manner as k-means. But because GMM contains a probabilistic model under the hood, it is also possible to find probabilistic cluster assignments—in Scikit-Learn this is done using the predict_proba method. This returns a matrix of size [n_samples, n_clusters] which measures the probability that any point belongs to the given cluster. We can visualize this uncertainty by, for example, making the size of each point proportional to the certainty of its prediction. The result of this is that each cluster is associated not with a hard-edged sphere, but with a smooth Gaussian model. \n",
    "\n",
    "\n",
    "\n",
    "#### Expectation Maximization Algorithm\n",
    "Choose starting guesses for the location and shape\n",
    "\n",
    "Repeat until converged:\n",
    "\n",
    "1. E-step: for each point, find weights encoding the probability of membership in each cluster\n",
    "2. M-step: for each cluster, update its location, normalization, and shape based on all data points, making use of the weights"
   ]
  },
  {
   "cell_type": "code",
   "execution_count": 1,
   "id": "98b85f06-3da7-4b8c-bc4d-164adb67577b",
   "metadata": {},
   "outputs": [],
   "source": [
    "from sklearn.datasets import fetch_20newsgroups\n",
    "from sklearn.decomposition import TruncatedSVD\n",
    "from sklearn.feature_extraction.text import TfidfVectorizer\n",
    "from sklearn.feature_extraction.text import HashingVectorizer\n",
    "from sklearn.feature_extraction.text import TfidfTransformer\n",
    "from sklearn.pipeline import make_pipeline\n",
    "from sklearn.preprocessing import Normalizer\n",
    "from sklearn import metrics\n",
    "from sklearn.cluster import KMeans, MiniBatchKMeans\n",
    "import logging\n",
    "from optparse import OptionParser\n",
    "import sys\n",
    "from time import time\n",
    "import numpy as np\n",
    "from sklearn.mixture import GaussianMixture"
   ]
  },
  {
   "cell_type": "markdown",
   "id": "b93d48d9-f7a6-4126-adb6-ea49cce9b33f",
   "metadata": {},
   "source": [
    "#### News Data"
   ]
  },
  {
   "cell_type": "code",
   "execution_count": 2,
   "id": "582645a0-f78f-4ea0-9719-818508f36194",
   "metadata": {},
   "outputs": [
    {
     "name": "stdout",
     "output_type": "stream",
     "text": [
      "Loading 20 newsgroups dataset for categories:\n",
      "['alt.atheism', 'talk.religion.misc', 'comp.graphics', 'sci.space']\n"
     ]
    }
   ],
   "source": [
    "# #############################################################################\n",
    "# Load some categories from the training set\n",
    "categories = [\n",
    "    \"alt.atheism\",\n",
    "    \"talk.religion.misc\",\n",
    "    \"comp.graphics\",\n",
    "    \"sci.space\",\n",
    "]\n",
    "# Uncomment the following to do the analysis on all the categories\n",
    "# categories = None\n",
    "\n",
    "print(\"Loading 20 newsgroups dataset for categories:\")\n",
    "print(categories)"
   ]
  },
  {
   "cell_type": "code",
   "execution_count": 3,
   "id": "946461d8-924e-4268-94e9-71de494f4c2b",
   "metadata": {},
   "outputs": [
    {
     "name": "stdout",
     "output_type": "stream",
     "text": [
      "3387 documents\n",
      "4 categories\n",
      "\n"
     ]
    }
   ],
   "source": [
    "dataset = fetch_20newsgroups(\n",
    "    subset=\"all\", categories=categories, shuffle=True, random_state=42\n",
    ")\n",
    "\n",
    "print(\"%d documents\" % len(dataset.data))\n",
    "print(\"%d categories\" % len(dataset.target_names))\n",
    "print()\n",
    "\n",
    "labels = dataset.target\n",
    "true_k = np.unique(labels).shape[0]"
   ]
  },
  {
   "cell_type": "code",
   "execution_count": 4,
   "id": "8c12410a-229f-490d-91fe-b3d2e3b7ec94",
   "metadata": {},
   "outputs": [],
   "source": [
    "vectorizer = TfidfVectorizer(\n",
    "        max_df=0.5,\n",
    "        max_features=5,\n",
    "        min_df=2,\n",
    "        stop_words=\"english\",\n",
    "    )"
   ]
  },
  {
   "cell_type": "code",
   "execution_count": 5,
   "id": "170049ac-e133-4e5a-a942-517dca538e60",
   "metadata": {},
   "outputs": [
    {
     "name": "stdout",
     "output_type": "stream",
     "text": [
      "n_samples: 3387, n_features: 5\n",
      "\n"
     ]
    }
   ],
   "source": [
    "X = vectorizer.fit_transform(dataset.data)\n",
    "print(\"n_samples: %d, n_features: %d\" % X.shape)\n",
    "print()"
   ]
  },
  {
   "cell_type": "code",
   "execution_count": 6,
   "id": "f4e3f255-292d-4817-9aa5-a8372371985e",
   "metadata": {},
   "outputs": [
    {
     "name": "stdout",
     "output_type": "stream",
     "text": [
      "Performing dimensionality reduction using LSA\n",
      "done in 0.011931s\n",
      "Explained variance of the SVD step: 43%\n",
      "\n"
     ]
    }
   ],
   "source": [
    "print(\"Performing dimensionality reduction using LSA\")\n",
    "t0 = time()\n",
    "# Vectorizer results are normalized, which makes KMeans behave as\n",
    "# spherical k-means for better results. Since LSA/SVD results are\n",
    "# not normalized, we have to redo the normalization.\n",
    "svd = TruncatedSVD()\n",
    "normalizer = Normalizer(copy=False)\n",
    "lsa = make_pipeline(svd, normalizer)\n",
    "\n",
    "X = lsa.fit_transform(X)\n",
    "\n",
    "print(\"done in %fs\" % (time() - t0))\n",
    "\n",
    "explained_variance = svd.explained_variance_ratio_.sum()\n",
    "print(\n",
    "    \"Explained variance of the SVD step: {}%\".format(int(explained_variance * 100))\n",
    ")\n",
    "\n",
    "print()"
   ]
  },
  {
   "cell_type": "code",
   "execution_count": 9,
   "id": "7e8bcb55-7ec3-44ad-a875-cff249bb76c9",
   "metadata": {},
   "outputs": [
    {
     "data": {
      "text/plain": [
       "array([[ 0.98371332, -0.02074082],\n",
       "       [ 0.65360429,  0.73500612],\n",
       "       [ 0.        ,  0.        ],\n",
       "       [ 0.84166877, -0.51921586]])"
      ]
     },
     "execution_count": 9,
     "metadata": {},
     "output_type": "execute_result"
    }
   ],
   "source": [
    "gm.means_"
   ]
  },
  {
   "cell_type": "code",
   "execution_count": 10,
   "id": "e81f21a4-a36c-4ecc-b4be-d3f8e473f93b",
   "metadata": {},
   "outputs": [
    {
     "data": {
      "text/plain": [
       "array([[1.00000000e+00, 7.49838739e-69, 0.00000000e+00, 0.00000000e+00]])"
      ]
     },
     "execution_count": 10,
     "metadata": {},
     "output_type": "execute_result"
    }
   ],
   "source": [
    "gm.predict_proba([[1, 1]])"
   ]
  },
  {
   "cell_type": "code",
   "execution_count": 11,
   "id": "79878c09-43a9-4d00-bdc1-1af44056a318",
   "metadata": {},
   "outputs": [
    {
     "data": {
      "text/plain": [
       "{'covariance_type': 'full',\n",
       " 'init_params': 'kmeans',\n",
       " 'max_iter': 100,\n",
       " 'means_init': None,\n",
       " 'n_components': 4,\n",
       " 'n_init': 1,\n",
       " 'precisions_init': None,\n",
       " 'random_state': 0,\n",
       " 'reg_covar': 1e-06,\n",
       " 'tol': 0.001,\n",
       " 'verbose': 0,\n",
       " 'verbose_interval': 10,\n",
       " 'warm_start': False,\n",
       " 'weights_init': None}"
      ]
     },
     "execution_count": 11,
     "metadata": {},
     "output_type": "execute_result"
    }
   ],
   "source": [
    "gm.get_params(deep=True)"
   ]
  },
  {
   "cell_type": "code",
   "execution_count": 12,
   "id": "68a0e8cb-ba6f-4ddf-a034-f43684510009",
   "metadata": {},
   "outputs": [
    {
     "data": {
      "text/plain": [
       "3.5639151422405253"
      ]
     },
     "execution_count": 12,
     "metadata": {},
     "output_type": "execute_result"
    }
   ],
   "source": [
    "gm.score(X)"
   ]
  },
  {
   "cell_type": "markdown",
   "id": "5244f57d-d0b8-4634-b111-c47f01a77b98",
   "metadata": {},
   "source": [
    "### Numerical Data"
   ]
  },
  {
   "cell_type": "code",
   "execution_count": 53,
   "id": "b72b2985-a165-4f86-b3ec-ad85b8945f2b",
   "metadata": {},
   "outputs": [],
   "source": [
    "%matplotlib inline\n",
    "import matplotlib.pyplot as plt\n",
    "import seaborn as sns; sns.set()\n",
    "import numpy as np\n",
    "import sklearn\n",
    "from sklearn.mixture import GaussianMixture as GMM"
   ]
  },
  {
   "cell_type": "code",
   "execution_count": 54,
   "id": "8ba69317-8ffe-48e4-b917-208fa901499e",
   "metadata": {},
   "outputs": [],
   "source": [
    "# Generate some data\n",
    "from sklearn.datasets import make_blobs\n",
    "X, y_true = make_blobs(n_samples=400, centers=4,\n",
    "                       cluster_std=0.60, random_state=0)\n",
    "X = X[:, ::-1] # flip axes for better plotting"
   ]
  },
  {
   "cell_type": "markdown",
   "id": "b519f69f-a263-41f8-896b-00c80d43bfb7",
   "metadata": {},
   "source": []
  },
  {
   "cell_type": "code",
   "execution_count": 36,
   "id": "d7c6c3fb-23b1-4874-8269-b66205804a25",
   "metadata": {},
   "outputs": [],
   "source": [
    "from matplotlib.patches import Ellipse\n",
    "\n",
    "def draw_ellipse(position, covariance, ax=None, **kwargs):\n",
    "    \"\"\"Draw an ellipse with a given position and covariance\"\"\"\n",
    "    ax = ax or plt.gca()\n",
    "    \n",
    "    # Convert covariance to principal axes\n",
    "    if covariance.shape == (2, 2):\n",
    "        U, s, Vt = np.linalg.svd(covariance)\n",
    "        angle = np.degrees(np.arctan2(U[1, 0], U[0, 0]))\n",
    "        width, height = 2 * np.sqrt(s)\n",
    "    else:\n",
    "        angle = 0\n",
    "        width, height = 2 * np.sqrt(covariance)\n",
    "    \n",
    "    # Draw the Ellipse\n",
    "    for nsig in range(1, 4):\n",
    "        ax.add_patch(Ellipse(position, nsig * width, nsig * height,\n",
    "                             angle, **kwargs))\n",
    "        \n",
    "def plot_gmm(gmm, X, label=True, ax=None):\n",
    "    ax = ax or plt.gca()\n",
    "    labels = gmm.fit(X).predict(X)\n",
    "    if label:\n",
    "        ax.scatter(X[:, 0], X[:, 1], c=labels, s=40, cmap='viridis', zorder=2)\n",
    "    else:\n",
    "        ax.scatter(X[:, 0], X[:, 1], s=40, zorder=2)\n",
    "    ax.axis('equal')\n",
    "    \n",
    "    w_factor = 0.2 / gmm.weights_.max()\n",
    "    for pos, covar, w in zip(gmm.means_, gmm.covariances_, gmm.weights_):\n",
    "        draw_ellipse(pos, covar, alpha=w * w_factor)"
   ]
  },
  {
   "cell_type": "code",
   "execution_count": 37,
   "id": "e77b90e8-c395-4b05-a054-fc2bf54747d8",
   "metadata": {},
   "outputs": [],
   "source": [
    "%matplotlib inline\n",
    "import matplotlib.pyplot as plt\n",
    "import seaborn as sns; sns.set()\n",
    "import numpy as np\n",
    "import sklearn\n",
    "from sklearn.mixture import GaussianMixture as GMM"
   ]
  },
  {
   "cell_type": "code",
   "execution_count": 43,
   "id": "71a3028a-276e-489c-a334-9932a676599f",
   "metadata": {},
   "outputs": [
    {
     "data": {
      "image/png": "[encoded data removed]",
      "text/plain": [
       "<Figure size 432x288 with 1 Axes>"
      ]
     },
     "metadata": {},
     "output_type": "display_data"
    }
   ],
   "source": [
    "gmm = GMM(n_components=4, covariance_type='full', random_state=42)\n",
    "plot_gmm(gmm, X)"
   ]
  },
  {
   "cell_type": "code",
   "execution_count": 56,
   "id": "a5d91795-7e80-4a1d-91fc-0ca030a18c13",
   "metadata": {},
   "outputs": [
    {
     "name": "stdout",
     "output_type": "stream",
     "text": [
      "Clustering sparse data with GaussianMixture(n_components=4, random_state=0)\n",
      "done in 0.080s\n",
      "\n",
      "akaike information criterion: -24095.961\n",
      "bayesian information criterion: -23955.024\n",
      "\n",
      "the key terms in the corpus: ['article', 'com', 'don', 'god', 'space']\n",
      "\n",
      "the location of the centroid:\n",
      "[[ 0.98371332 -0.02074082]\n",
      " [ 0.65360429  0.73500612]\n",
      " [ 0.          0.        ]\n",
      " [ 0.84166877 -0.51921586]]\n",
      "\n",
      "the prediction for a new point:\n",
      "[[1.00000000e+00 7.49838739e-69 0.00000000e+00 0.00000000e+00]]\n",
      "\n",
      "the model parameters:\n",
      "{'covariance_type': 'full', 'init_params': 'kmeans', 'max_iter': 100, 'means_init': None, 'n_components': 4, 'n_init': 1, 'precisions_init': None, 'random_state': 0, 'reg_covar': 1e-06, 'tol': 0.001, 'verbose': 0, 'verbose_interval': 10, 'warm_start': False, 'weights_init': None}\n",
      "\n",
      "model performance score: 3.564\n"
     ]
    }
   ],
   "source": [
    "print(\"Clustering sparse data with %s\" % gm)\n",
    "t0 = time()\n",
    "gmm.fit(X)\n",
    "print(\"done in %0.3fs\" % (time() - t0))\n",
    "print()\n",
    "print(\"akaike information criterion: %0.3f\" % gm.aic(X))\n",
    "print(\"bayesian information criterion: %0.3f\" % gm.bic(X))\n",
    "print()\n",
    "terms = vectorizer.get_feature_names()\n",
    "print(f'the key terms in the corpus: {terms}')\n",
    "print()\n",
    "print('the location of the centroid:') \n",
    "print(gm.means_)\n",
    "print()\n",
    "print('the prediction for a new point:') \n",
    "print(gm.predict_proba([[1, 1]]))\n",
    "print()\n",
    "print('the model parameters:') \n",
    "print(gm.get_params(deep=True))\n",
    "print()\n",
    "print(\"model performance score: %0.3f\" % gm.score(X))"
   ]
  },
  {
   "cell_type": "markdown",
   "id": "9ad87efb-d52d-42f1-8023-8c021013d84f",
   "metadata": {},
   "source": [
    "### Schematic Data"
   ]
  },
  {
   "cell_type": "code",
   "execution_count": 54,
   "id": "2123dbf6-2e64-4684-9f80-f60106b20435",
   "metadata": {},
   "outputs": [],
   "source": [
    "# Generate some data\n",
    "from sklearn.datasets import make_blobs\n",
    "X_1, y_true = make_blobs(n_samples=400, centers=4,\n",
    "                       cluster_std=0.60, random_state=0)\n",
    "X_1 = X_1[:, ::-1] # flip axes for better plotting"
   ]
  },
  {
   "cell_type": "code",
   "execution_count": 55,
   "id": "85e2e9b3-131a-4108-bc80-4c26d709f348",
   "metadata": {},
   "outputs": [
    {
     "data": {
      "image/png": "[encoded data removed]",
      "text/plain": [
       "<Figure size 432x288 with 1 Axes>"
      ]
     },
     "metadata": {},
     "output_type": "display_data"
    }
   ],
   "source": [
    "plot_gmm(gmm, X_1)"
   ]
  },
  {
   "cell_type": "code",
   "execution_count": null,
   "id": "13629307-8bfd-4f24-a9b7-9eaf722dd5a5",
   "metadata": {},
   "outputs": [],
   "source": []
  }
 ],
 "metadata": {
  "kernelspec": {
   "display_name": "Python 3 (ipykernel)",
   "language": "python",
   "name": "python3"
  },
  "language_info": {
   "codemirror_mode": {
    "name": "ipython",
    "version": 3
   },
   "file_extension": ".py",
   "mimetype": "text/x-python",
   "name": "python",
   "nbconvert_exporter": "python",
   "pygments_lexer": "ipython3",
   "version": "3.9.7"
  }
 },
 "nbformat": 4,
 "nbformat_minor": 5
}
