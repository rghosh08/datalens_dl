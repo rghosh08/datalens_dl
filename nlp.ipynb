{
 "cells": [
  {
   "cell_type": "markdown",
   "id": "efd8ce77-9b61-4567-a983-9223fb27fe54",
   "metadata": {},
   "source": [
    "### Abstract¶\n",
    "#### This notebook pertains to a representative NLP pipeline which helps in extracting information from an unstructured log file.\n",
    "\n",
    "### Terminology\n",
    "\n",
    "* Corpus: A collection of documents\n",
    "* Document: A log file\n",
    "* Word: A single word in an unprocessed document\n",
    "* Token: A single word in a processed document\n",
    "* Processing (word -> token)\n",
    "    * removal of punctuations, stopwords, and other user-defined characters\n",
    "    * lemmatization (grouping together the inflected forms of a word so they can be analysed as a single item)\n",
    "* Tokens are ready for vectorization and processing by different ML algorithms"
   ]
  },
  {
   "cell_type": "markdown",
   "id": "6444fef9-da25-498e-8e77-960a1a77b0a3",
   "metadata": {},
   "source": [
    "### What are the key steps in an NLP workflow?\n",
    "\n",
    "1. load the corpus\n",
    "2. remove capitals\n",
    "3. remove punctuations\n",
    "4. check frequency distribution\n",
    "5. removing stopwords and user-defined patterns (regex)\n",
    "6. stemming\n",
    "7. lemmatization\n",
    "8. bag-of-words/tokenization\n",
    "9. masking/n-grams\n",
    "10. term frequency-inverse document frequency (TF-IDF)"
   ]
  },
  {
   "cell_type": "markdown",
   "id": "56546c4b-85e5-4d23-a86c-f34c9bccb53d",
   "metadata": {},
   "source": [
    "### Key Features\n",
    "\n",
    "1. meta data extraction \n",
    "2. word frequency analysis\n",
    "3. sentiment analysis\n",
    "4. document summarization\n",
    "5. anomaly detection"
   ]
  },
  {
   "cell_type": "code",
   "execution_count": 1,
   "id": "44d70526-0581-4225-8024-fbe16f67ae19",
   "metadata": {},
   "outputs": [
    {
     "name": "stdout",
     "output_type": "stream",
     "text": [
      "\u001b[33mDEPRECATION: Configuring installation scheme with distutils config files is deprecated and will no longer work in the near future. If you are using a Homebrew or Linuxbrew Python, please see discussion at https://github.com/Homebrew/homebrew-core/issues/76621\u001b[0m\n",
      "Requirement already satisfied: PyPDF2 in /usr/local/lib/python3.9/site-packages (1.26.0)\n",
      "\u001b[33mWARNING: You are using pip version 21.2.4; however, version 21.3.1 is available.\n",
      "You should consider upgrading via the '/usr/local/opt/python@3.9/bin/python3.9 -m pip install --upgrade pip' command.\u001b[0m\n"
     ]
    }
   ],
   "source": [
    "!pip3 install PyPDF2"
   ]
  },
  {
   "cell_type": "code",
   "execution_count": 2,
   "id": "9dbb1e12-c0cd-4203-9ca2-361b1ca70026",
   "metadata": {},
   "outputs": [],
   "source": [
    "import PyPDF2\n",
    "import warnings\n",
    "warnings.filterwarnings(\"ignore\",category=DeprecationWarning)"
   ]
  },
  {
   "cell_type": "code",
   "execution_count": 3,
   "id": "6515b942-0b12-4f48-9ebc-149c847a9791",
   "metadata": {},
   "outputs": [],
   "source": [
    "filename = './manibook'\n",
    "open_filename = open(filename, 'rb')\n",
    "\n",
    "ind_manifesto = PyPDF2.PdfFileReader(open_filename)"
   ]
  },
  {
   "cell_type": "markdown",
   "id": "2be6f575-9035-4ee6-a655-3fef7bfce4eb",
   "metadata": {},
   "source": [
    "### Extraction of the meta information from the pdf document"
   ]
  },
  {
   "cell_type": "code",
   "execution_count": 4,
   "id": "bb63b858-6164-43c9-9d94-f416150b359f",
   "metadata": {},
   "outputs": [
    {
     "data": {
      "text/plain": [
       "{'/Title': 'Microsoft Word - MANIBOOK  A4 L.docx',\n",
       " '/Producer': 'macOS Version 10.14.3 (Build 18D109) Quartz PDFContext',\n",
       " '/Creator': 'Word',\n",
       " '/CreationDate': \"D:20191025172054Z00'00'\",\n",
       " '/ModDate': \"D:20191025172054Z00'00'\",\n",
       " '/Keywords': '',\n",
       " '/AAPL:Keywords': []}"
      ]
     },
     "execution_count": 4,
     "metadata": {},
     "output_type": "execute_result"
    }
   ],
   "source": [
    "ind_manifesto.getDocumentInfo()"
   ]
  },
  {
   "cell_type": "code",
   "execution_count": 5,
   "id": "91ea191a-06cf-4a6b-addd-b18274d68b1f",
   "metadata": {},
   "outputs": [
    {
     "data": {
      "text/plain": [
       "28"
      ]
     },
     "execution_count": 5,
     "metadata": {},
     "output_type": "execute_result"
    }
   ],
   "source": [
    "total_pages = ind_manifesto.numPages\n",
    "total_pages"
   ]
  },
  {
   "cell_type": "code",
   "execution_count": 6,
   "id": "c5b52883-6684-4a4d-bdc7-51f3072f30b4",
   "metadata": {},
   "outputs": [],
   "source": [
    "#!pip3 install textract"
   ]
  },
  {
   "cell_type": "code",
   "execution_count": 7,
   "id": "ed4ae289-2c3f-4ba7-8298-164d03e5d553",
   "metadata": {},
   "outputs": [],
   "source": [
    "import textract   "
   ]
  },
  {
   "cell_type": "code",
   "execution_count": 8,
   "id": "1d565d25-0b5b-46a7-b259-c3b24f58265e",
   "metadata": {},
   "outputs": [],
   "source": [
    "count = 0\n",
    "text  = ''\n",
    "\n",
    "# Lets loop through, to read each page from the pdf file\n",
    "while(count < total_pages):\n",
    "    # Get the specified number of pages in the document\n",
    "    mani_page  = ind_manifesto.getPage(count)\n",
    "    # Process the next page\n",
    "    count += 1\n",
    "    # Extract the text from the page\n",
    "    text += mani_page.extractText()"
   ]
  },
  {
   "cell_type": "code",
   "execution_count": 9,
   "id": "0c6c942d-babd-4ce9-946f-99ca1e548e18",
   "metadata": {},
   "outputs": [],
   "source": [
    "if text != '':\n",
    "    text = text\n",
    "    \n",
    "else:\n",
    "    textract.process(open_filename, method='tesseract', encoding='utf-8', langauge='eng' )    "
   ]
  },
  {
   "cell_type": "code",
   "execution_count": 10,
   "id": "39fa2266-2009-4d5e-92d5-a30160a36571",
   "metadata": {},
   "outputs": [],
   "source": [
    "#!pip3 install autocorrect"
   ]
  },
  {
   "cell_type": "code",
   "execution_count": 11,
   "id": "01ffb381-6158-4408-a221-036df3349151",
   "metadata": {},
   "outputs": [],
   "source": [
    "from autocorrect import Speller\n",
    "from nltk.tokenize import word_tokenize\n",
    "\n",
    "\n",
    "def to_lower(text):\n",
    "\n",
    "    \"\"\"\n",
    "    Converting text to lower case as in, converting \"Hello\" to  \"hello\" or \"HELLO\" to \"hello\".\n",
    "    \"\"\"\n",
    "    \n",
    "    # Specll check the words\n",
    "    spell  = Speller(lang='en')\n",
    "    \n",
    "    texts = spell(text)\n",
    "    \n",
    "    return ' '.join([w.lower() for w in word_tokenize(text)])\n",
    "\n",
    "lower_case = to_lower(text)\n",
    "# print(lower_case)"
   ]
  },
  {
   "cell_type": "code",
   "execution_count": 12,
   "id": "73bb8c30-8ecc-414e-a7e2-7e4223504a3a",
   "metadata": {},
   "outputs": [],
   "source": [
    "import nltk\n",
    "import re\n",
    "import string\n",
    "from nltk.corpus import stopwords, brown\n",
    "from nltk.tokenize import word_tokenize, sent_tokenize, RegexpTokenizer\n",
    "from nltk.stem import WordNetLemmatizer\n",
    "from autocorrect import spell"
   ]
  },
  {
   "cell_type": "code",
   "execution_count": 13,
   "id": "69b63ff4-e03f-430b-8ed6-8bf9713e0a0b",
   "metadata": {},
   "outputs": [],
   "source": [
    "def clean_text(lower_case):\n",
    "    # split text phrases into words\n",
    "    words  = nltk.word_tokenize(lower_case)\n",
    "    \n",
    "    \n",
    "    # Create a list of all the punctuations we wish to remove\n",
    "    punctuations = ['.', ',', '/', '!', '?', ';', ':', '(',')', '[',']', '-', '_', '%']\n",
    "    \n",
    "    # Remove all the special characters\n",
    "    punctuations = re.sub(r'\\W', ' ', str(lower_case))\n",
    "    \n",
    "    # Initialize the stopwords variable, which is a list of words ('and', 'the', 'i', 'yourself', 'is') that do not hold much values as key words\n",
    "    stop_words  = stopwords.words('english')\n",
    "    \n",
    "    # Getting rid of all the words that contain numbers in them\n",
    "    w_num = re.sub('\\w*\\d\\w*', '', lower_case).strip()\n",
    "    \n",
    "    # remove all single characters\n",
    "    lower_case = re.sub(r'\\s+[a-zA-Z]\\s+', ' ', lower_case)\n",
    "    \n",
    "    # Substituting multiple spaces with single space\n",
    "    lower_case = re.sub(r'\\s+', ' ', lower_case, flags=re.I)\n",
    "    \n",
    "    # Removing prefixed 'b'\n",
    "    lower_case = re.sub(r'^b\\s+', '', lower_case)\n",
    "    \n",
    "    # Removing non-english characters\n",
    "    lower_case = re.sub(r'^b\\s+', '', lower_case)\n",
    "    \n",
    "    # Return keywords which are not in stop words \n",
    "    keywords = [word for word in words if not word in stop_words  and word in punctuations and  word in w_num]\n",
    "    \n",
    "    return keywords"
   ]
  },
  {
   "cell_type": "code",
   "execution_count": 14,
   "id": "82fdbb39-0049-410a-8551-7442b3e80f07",
   "metadata": {},
   "outputs": [
    {
     "name": "stdout",
     "output_type": "stream",
     "text": [
      "table content introduction b improving sanitation strategy government economy infrastructure industry social service summ ary introduction nearly year hero heroine sacrificed many tortured imprisoned fight gain independence self socioeconomic development time ask promise freedom delivered need look closely constructively good namibia good need done meet expectation blame outside world country trouble sma country large resource resource world need african country fewer resource bigger population outperforming u economically something must wrong strategy decision manifesto set need install good governance identifies priority return benefit countryõs rich people struggle intended simply replace rich white people rich black people provide opportunity people participate building enjoying countryõs rich government living peopleõs expectation must due either people running government system government course namibia plagu ed common weakness emerging nation ð self elite whose initial intention however good however bold replaced protecting status wealth privilege family surround crony wi th opportunist hope benefit closeness power hyena round lionõs kill jackal waiting chance gove rnment spending n million per year duplicating ministerial task lack coherent polic y turning blind eye deep corruption million looted various government institution need found example gipf sme bank ghost salary inflated tendering procedure inefficient state enterprise much f drain justified òjobs friend ó looted fund could reinvested betterment life health education professional training opportunity youth cream nation need welcome citiz en country assist u ambition contribute growth selling abandoning birth right denying similar opportunity citizen land people sale reforming fai ling system quick easy apart obvious resistance beneficiary current arrangement well system dismantled effective efficient system put place constantly review ed initially authored proposed radical constitutional lawful step electing independent president obligation person institution namibian people president independent elected parliamen tarians appoints minister capacity deliver bold policy party allegiance president revive hope aspiration accompanied u struggle freedom deliver society pro ud president truly mandated considerable number ordinary people across entire namibia selected group elite party leader manifesto result communicating vast number people period time people õs manifesto ad conjunction ô blue print fro socioeconomic development õ abridge version thereof three document complementary suitably designed serve citizen b improving governance w elfare future nation hand everyone stake nation run participation decision making voting leader open fundamental right important everyone participates yout h future woman defence socio violence pathway socio empowerment elected leader fail govern well betraying u disservice u generation c ome namibia reached critical point young democracy power transferred elite run country private business ignoring peopleõs need right dignified existence personal insult citizen permit continue important kind abuse power stopped stopped peopleõs need must become priorit government order overcome stagnation present system permitted need eek radical solution decided careful consideration run office president republic namibia independent candidate commit welfare people namibia namibia small po pulation numbering million inhabitant gross domestic product gdp international measure productivity wealth u billion unfortunately also soaring national debt billion deficit budgeted fund u billion increasing household spends earns would soon bankrupt government led nation despite rich natural resource point allowed continue principal reason tate affair bloated administration top unnecessary ministry official selected affiliation relationship connection elite acolyte need put place structure far possible count eracts practice independent president clean corruption maladministration identify target priority establish programme reform need ministerial adviser professional manager appoin ted merit help execute decision ensure true independence president ministerial civil servant professional must free political social bias advice must impartial even critical desired r eforms succeed karl marx said òthe educator need educatingó identifying need external supervision professional simply probity current administration authority independent president must appoin independent impartial administration prone cronyism corruption body already exists namibia public service commission member commission chosen civil society profession health education law journalism well business trade union art ð excluding individual related president minister person known personal agenda access post administration based level educa tion appropriate post knowledge english least one namibian national language relevant provision constitution especially fundamental right freedom currently illegally ignored good starting point structure serious risk time government could relapse old way throughout continent witnessed leader government post era start good intention freeing nation worst colonial oppression effort frustrated civil war one ð party state dictatorship tribalism opportunity namibia avoid future still benefit free election accordance article namibian constitution ôall power shall vested people namibia shall exercise sovereignty democratic veteran struggle loyal member swapo distressed observe betrayal hope expectation conduct leader party state reason standing independent restore faith people nation namibia patriotism paramount loyalty par ty leadership respect rule law youth youth make majority population potential contributor economic activity unfortunate segment population worst hit high unemployment characterized inequality access job inadequate skill job market discrimination job market aggravated fact specific tool capacity cultivated address much greater problem claim care youth guise youthfulness representation slightest idea youth want body current political dispensation dared ask youth want youth want done youth want done fact youth unemployment socio dilemma adequately addressed challenge democracy need deepening youth participation decision making process policy cycle low especially come agenda setting reason donõt want make mistake imposing policy pre determined agenda youth believe youth decide destiny promise however following youth occupy percent cabinet key decision position government structure entity least percent youth none discriminatory funding development c ooperative project youth development cou ntrywide within armpit law policy none discriminatory education funding eligible student tertiary institution inclu voc ational institution consult youth countrywide draft blue print youth empowerment allow youth determine destiny country rightful succe strategy government first priority rid u incompeten ce administration soaked corruption cronyism reduction ministry public organisation often duplicating work working dozen twelve minister least four merit sha age year including prime minister ensure coordination work ministry meritocracy pragmatism honest shall hallmark dictate appointment minister clear duty portfolio measurable target public ass performance periodically independently appointed civil servant assist addition reducing number ministry merge close thirty parasitic organisation living government fund existing employee retained transition complete thereafter employment allocated ground experience knowledge track record employee certain age given opportunity retire early maximum pension would received stayed employment resource liberated action amount nearly current expenditure saved resource go towards achieving pr iority ambition like encouraging local entrepreneurship empowering youth woman well restoring budget allocation original purpose important service government provide citizen security certainty daily life namibian equal law arbitrary interference right liberty namibian citizen contrary national international law namibian regardless gender colour distinguishing featu re entitled right obligation guaranteed constitution adhere strictly provision chapter fundamental right freedom principle article constitution prioritise developm ent opportunity citizen including access land especially youth woman veteran development enterprise free access health education service example ensure resource intended free health c used fund private sector industry large business obliged hire namibian staff offer apprenticeship training namibian citizen wish operate namibian territory would apply foreign ind ustries business currently operating licence permit contribution company welcome develop economy expertise skill required must eventually transferred citizen measure ne eded ensure majority benefit financial technological arising exploitation resource remains namibia life revolutionary activist member swapo proud participated struggle ur comrade liberation veteran high hope democratic future supervised party ideal would deliver expectation people would benefit sacrifice would vain however swa po namibia namibia swapo permitted club social economic advancement member administration swapo specifically people old south west africa organisation orga nisation proxy government mean controlling dissent slogan clich intended time ear provide food family put roof head return respect constitutio n value vital change succeed change hand member restoration democracy constitutional legality necessary health swapo government namibia important peace namibian political party country patriotism must reign partisan economically polarised society gulf rich poor ever widening change difficult achieve believe working together irrespective political affiliation achieve change need take time urgency leave behind party loyalty rally behind nationalism independent president rescue namibia beco ming failed state fierce resistance particularly beneficiary present unhealthy system however go blindly challenge let highlight detail vision government economy heartb eat economy undeniably energy water finance health education fundamental feature necessary build strong economy economy serious danger given contraction past three year repeated downgradin however much worrying current account unemployment amongst youth several shop going worker made redundant consequence treasury mentioned way country run present permit enough resource distributed need change require new mechanism new objective requires review major sector ð mining agriculture fishery tourism service sector w ill require investment infrastructure road electricity access digital service appreciating fourth industrial revolution housing people land water sanitation electricity hand benefit able see result previous experiment economic system longer revolutionary observe economy entirely private hand run via market mechanism doomed failure market excellent teacher bad master provide support sector economy governed profit pursuit profit cost inevitably creates circumstance downfall recent world economic meltdown blip system inherent pursuit wealth non productive activity advocate free market economy quote adam smith father free trade advocated activity must reserved state defence also overlook adam smith writing industrial revolution essentially agricultural economy karl marx identified iniquity industrial capitalism free marketer also forget free trade depends free access free exit given market condition impossible respect todayõs internationalised high tech economy never economy run free trade principle even mighty subsidises large part economy tate intervention equally economy entirely managed state owned state controlled company failed collapse soviet union follower chinaõs st century expansion sufficient testimony mix private pu blic enterprise way forward finding right mix challenge namibia place private entrepreneur community enterprise cooperative company shareholder capital international company large company obliged partnership state worker representation board successful international example latter industrialised western economy developing economy namibia best served mixed e conomy open innovation entrepreneurial skill benefitting experience knowledge must accompany successful large company achieve balance government must provide regulatory environment allows people beneficiary economic success mean scheme skill transfer namibian worker direct participation wealth generated namibian industry may apposite note smith marx one thing common observing economy ultimately based human labour good thing produced labour whoever enjoys without working stealing bread worker must stop infrastructure society need solid infr astructure upon organisation functioning based namibia need investment road bring people community together facilitate trade exchange idea need housing running water sanitation el ectricity citizen need access digital medium via investment digital economy linking remote region city outside world housing building infrastructure expensive cheap quick however must start consequently priority intend launch major house programme accelerate security people allocate piece land construct house citizen homel es without shelter may borrow experience nation faced similar problem using necessary prefabricated housing deploying security force assist construction also help u build ski set among construction worker sector become problematic future year n dual option direct government housing scheme designed specifically provide shelter improve standard accommodation people informal settlement especially youth shall simultaneously provide employment instantly many youth irrespective profession especially emerging relevant vtcõs course bricklaying electr ician plumbing addition unemployed citizenry shall able participate scheme appropriately remunerated b road extensively travelled across country epupa aroab eiseb twyfel fontei n nd experienced first road infrastructure general comparatively excellent road however many road especially rural community resort ossusvlei desperate need maintenance new road need built especially south kharas east omaheke tourism industry attracts foreign tourist òunspoiltó landscape fascinating wildlife getting comfortably difficult exception need large mo tor way dual carriage way need road safe drive motorist comfortable drive passenger may call security service provide expertise carry planning building rail road move commodity shall endeavour invest rundu katima railway network access interior continent port c electricity domestic service electricity network need upgrading expan sion telephone connection although mobile telephone obvious way forward install mast communication technology service accident early year mobile telephony leader finland nokia sweden erikson country relatively small population spread large landmass ð like namibia experience exists overcome inherent problem kind use town city served wi th electricity region countryside well served government must intervene create condition expended network private enterprise alone done partnership possibility ex ploiting solar energy may one way forward water desert country experience frequent period water shortage drought face major challenge ensuring water supply town city let alone farm resident r ural area affect residential property business industrial production alike sit back accept must live natural phenomenon seek way alleviate worst effect believe latter reality chronic shortage water tackled using existing possibility negotiate neighbour share fresh water resource zambezi okavango orange learn development desalinatio n plant country plan infrastructure utilise efficiently current resource dam boreholes canal effect young patriot proposed blue rejected factual objective reasoning donõt need wheel accelerating climate change may difficult try succeed long ago sixteenth century frenchman descartes discovered get water deep underground becam e known cartesian well technology come long way although might accept future need drill water rather drill oil industry creating regional hub often overlooked worker indus trial sector engaged manufacturing extractive activity supervisory post management secretary sale people others job also far possible benefit coordinated opportunity regional em ployment mind intend set regional hub assist local community benefit local activity b mining mining benefit namibian people contribution namibian economy require r egulated national level implementation monitoring mining chatter critical state participation reward company generate namibian mining retaining percentage profit derived mining activity essential skill transfer international company namibian employee training programme apprenticeship obligatory community region mining take place share directly central governmentõs receipt mining activity also benefit training aspect business including management marketing encouragement given local entrepreneur innovator develop ancillary business licence permit though issued n ationally subject local approval c tourism tourism major earner foreign exchange essential retain develop international popularity foreign currency permit u buy enjoy good service cann ot produce ensure tourism least continues present level preferably increase need investment transport infrastructure better road better air access maintenance park wildlife protection training f staff support sector ð hotel camp restaurant safari multitude task make tourism industry mixture public support private initiative way forward need committee organisatio n led corrupt leader convicted criminal work need involvement local community tourist experience improved agriculture see detailed agriculture policy elsewhere small population living expanse land incomprehensible namibian little land tradition based occupation use land balance big farm smallholding need established atte mpts neighbour solve problem associated land distribution marked detrimental effect agricultural production hence food supply afford go road land use must determined contrib ution nationõs prosperity smallholder feeding family produce land make useful contribution commercial farm selling production market big farm contributing nationõs prosperity e food production tourism expected change behaviour would futile attempt make namibia self food production would divert resource away efficient use land must try self balancing export import mean concentrating crop economical produce natural advantage seeking reliable market simultaneously empower traditional crop producer rural area supported academia conjunction new peoplesõ oriented market various town receive famers produce especially accessed elder new nutrition smart scheme designed keep people healthy facilitate novel biometric smart card pensioner directly linked government financial source e fishery despite threat phosphate mining nation never allow happen marine ecology true arti cle nam ibia constitution sustainable development fishery good example ònatural advantageó water currently teeming fish country want chosen exploit resource fishery agreement permit licence good mean earning foreign exchange account sum received earnings spent benefit coastal community done train educate citizen exp loit resource fish caught namibian water shipped abroad without ever landed namibian soil supermarket store import fish neighbour feed people fis h diet nutritionally beneficial meat diet vulnerable population excluded high price fish fish quota allocated connected individual shall revised allow entire public al l region benefit natural resource regional quota allocation lead employment creation establishment regional fish product factory fishery policy sell natural wealth foreigner without ny accountability receipt policy extract national benefit bounty disgrace political crime amount self governing elite whose year power led justify f entrepreneurial strategy read business press developed industrial world would led believe economy turned activity large multinational company fact company employing people make le business employ le ten people small business matter wheel keep economy running cooperative make national business eu usa eu usa policy designed support small business free trade capitalism political fiction strategy suitable namibia plenty room entrepreneurship country like namibia retail trade servicing larger sector garage transport domestic service like plumbing interior decorator however opportunity opening niche market exploiting new idea must overlooked historical reasonable distrust capitalism must blind u need non enterprise relying effort ingenuity individual often much victim unbridled capitalism rest society marxõs belief manõs creative capacity distinguished ot animal fundamental political belief stifling creative instinct whether small business cultural activity contrary progressive ambition derive considerable revenue smes run indigenous namibian protection unskilled service delivery men woman hair nail industry traditional product kapana industry taxi driver minor critical smes shall enhanced allow industry restricted namibian citizen specific regulation furthermore traditional craft sale including premise allocation shall restricted namibian citizen nationality entity retail shop shall confined specific area stricter revenue evaluation rule applied controlling import revenue accruement would avoid enhance local competition choice social service identify health education welfare social service citizen entitled citizen free ready access health efficient health service free point delivery available difficult target achieve made difficult realise f unds allocated free health care transferred private sector private medicine may part overall health environment choose preference publicly funded health care pay full cost every penny paid public fund private health care stolen afford pay present government permit incomprehensible extremely valuable support establishing national health service international friend grateful time accelerate development health professional education training shall seek develop link institution reliable reputation training health professional as ist u ambition beginning benefit namibian trained doctor nurse graduating namibian institution need provide postgraduate training specialization namibia forget worker health sector doctor dentist nurse many specialty physiotherapist mention people maintain equipment cleaner people working health sector need specific training appropriate sk ill patient safety also need improve maintenance safety hospital clinic provide safe health care unhealthy environment need examine better provide care rural area travel heal th centre difficult b education education essential tool building self nation literacy ability read understand wider world reading course important education must go beyond th different people different capacity learn learn quickly slowly extreme difficulty natural constraint education system flexible enough cope excluding people achieving poten tial detrimental u early introduction subject agriculture least grade identification potential professional orientation pupil shall made compulsory curriculum impact reli gious study early age notwithstanding secularity shall considered best interest safety security people know education provided different age different content help pupil student reach full potential must offered opportunity skill training well academic learning throughout education pupil may excel sport music artistic skill must offered opportunity develop ir talent pupil may skilled hand academic skill training non individual benefit community talent must made available must study successful education syste m country find appropriate system u recognising education never based belief one system fit guiding principle must also given priority public funding ensure future gen erations benefit investment make c welfare none u exempt experiencing unwanted circumstance ill health unemployment insecurity home responsibility whole nation collectively mitigate effect bad circumstance individual never know may turn government legislate plan unforeseeable circumstance set system designed offset worst effect misfortune also obligation citizen provide mean opportunity far possible protect free access health education obvious mechanism achieve also need provide unable support must provide equitable pension beyond working age care fellow citizen incapacitated age illness care young lack support family many reason needing assistance indiv iduals provide one reason u provide assistance ð could u foundation human society religion compassion herd elephant show daily life devastating see expecting mother awaiting delivery future generation living squally condition next hospital outapi engela despicable scene child playing unhygienic disease environment informal settle ments conducive dignified standard living people stated article constitution neither devastating loss life fire flood informal settlement shall rededicate imp lementation article principle state policy summary system government political party immune error defence democracy need constant vigilance must respect rule law illegal criticise government illegal criticise political party crime leader government leader political party use technique intimidation harassment stop divert criticism fortunately still h ave free press free judiciary namibia duty citizen protect institution undue pressure manipulation progress creativity inevitably involve change applies equally hold power new idea n ew challenge may require new solution old mantra need revised new song sung independent presidency constraint limitation number time president serve laid constitution fu ndamental liberty intention president put u right path implement necessary change identified pas torch new president sufficient progress made must question pre sidency ultimate reward apparatchik yes important appeal namibian irrespective political persuasion stop slow sleepwalking stagnation bankruptcy featherbedding ission redistribute wealth equitably insert new dynamism society involve u designing new future increasing participation u political process provide community mean cont ributing decision affecting destiny president intend make accessible people represent undertake reside presidential state house launched nationwide house programme happy remain comrade neighbour friend katutura appeal namibian patriot irrespective political allegiance recall nationõs ambition serve people send message current leader game ov er people taking back control revolutionary anthem worker ð òlift peopleõs banner trailing dust million hand ready guard sacred banner nation country sale time save namibia must save\n"
     ]
    }
   ],
   "source": [
    "# Lemmatize the words\n",
    "wordnet_lemmatizer = WordNetLemmatizer()\n",
    "\n",
    "lemmatized_word = [wordnet_lemmatizer.lemmatize(word) for word in clean_text(lower_case)]\n",
    "\n",
    "# lets print out the output from our function above and see how the data looks like\n",
    "clean_data = ' '.join(lemmatized_word)\n",
    "print(clean_data)"
   ]
  },
  {
   "cell_type": "code",
   "execution_count": 15,
   "id": "15445377-0349-4c27-8fea-80a175eb3436",
   "metadata": {},
   "outputs": [
    {
     "data": {
      "text/html": [
       "<div>\n",
       "<style scoped>\n",
       "    .dataframe tbody tr th:only-of-type {\n",
       "        vertical-align: middle;\n",
       "    }\n",
       "\n",
       "    .dataframe tbody tr th {\n",
       "        vertical-align: top;\n",
       "    }\n",
       "\n",
       "    .dataframe thead th {\n",
       "        text-align: right;\n",
       "    }\n",
       "</style>\n",
       "<table border=\"1\" class=\"dataframe\">\n",
       "  <thead>\n",
       "    <tr style=\"text-align: right;\">\n",
       "      <th></th>\n",
       "      <th>script</th>\n",
       "    </tr>\n",
       "  </thead>\n",
       "  <tbody>\n",
       "    <tr>\n",
       "      <th>Itula</th>\n",
       "      <td>table content introduction b improving sanitat...</td>\n",
       "    </tr>\n",
       "  </tbody>\n",
       "</table>\n",
       "</div>"
      ],
      "text/plain": [
       "                                                  script\n",
       "Itula  table content introduction b improving sanitat..."
      ]
     },
     "execution_count": 15,
     "metadata": {},
     "output_type": "execute_result"
    }
   ],
   "source": [
    "import pandas as pd\n",
    "df = pd.DataFrame([clean_data])\n",
    "df.columns = ['script']\n",
    "df.index = ['Itula']\n",
    "df"
   ]
  },
  {
   "cell_type": "code",
   "execution_count": 16,
   "id": "44d16aee-6f27-47a9-b390-3f5108358a08",
   "metadata": {},
   "outputs": [],
   "source": [
    "#  Counting the occurrences of tokens and building a sparse matrix of documents x tokens.\n",
    "from sklearn.feature_extraction.text import CountVectorizer\n",
    "import numpy as np\n",
    "\n",
    "corpus = df.script\n",
    "vect = CountVectorizer(stop_words='english')\n",
    "\n",
    "# Transforms the data into a bag of words\n",
    "data_vect = vect.fit_transform(corpus)\n"
   ]
  },
  {
   "cell_type": "code",
   "execution_count": 17,
   "id": "d5d89ae8-b47b-48dc-86d5-30f79cb8c830",
   "metadata": {},
   "outputs": [
    {
     "data": {
      "text/html": [
       "<div>\n",
       "<style scoped>\n",
       "    .dataframe tbody tr th:only-of-type {\n",
       "        vertical-align: middle;\n",
       "    }\n",
       "\n",
       "    .dataframe tbody tr th {\n",
       "        vertical-align: top;\n",
       "    }\n",
       "\n",
       "    .dataframe thead th {\n",
       "        text-align: right;\n",
       "    }\n",
       "</style>\n",
       "<table border=\"1\" class=\"dataframe\">\n",
       "  <thead>\n",
       "    <tr style=\"text-align: right;\">\n",
       "      <th></th>\n",
       "      <th>abandoning</th>\n",
       "      <th>ability</th>\n",
       "      <th>able</th>\n",
       "      <th>abridge</th>\n",
       "      <th>abroad</th>\n",
       "      <th>abuse</th>\n",
       "      <th>academia</th>\n",
       "      <th>academic</th>\n",
       "      <th>accelerate</th>\n",
       "      <th>accelerating</th>\n",
       "      <th>...</th>\n",
       "      <th>youth</th>\n",
       "      <th>youthfulness</th>\n",
       "      <th>zambezi</th>\n",
       "      <th>òjobs</th>\n",
       "      <th>òlift</th>\n",
       "      <th>ònatural</th>\n",
       "      <th>òthe</th>\n",
       "      <th>òunspoiltó</th>\n",
       "      <th>ôall</th>\n",
       "      <th>õs</th>\n",
       "    </tr>\n",
       "  </thead>\n",
       "  <tbody>\n",
       "    <tr>\n",
       "      <th>Itula</th>\n",
       "      <td>1</td>\n",
       "      <td>1</td>\n",
       "      <td>2</td>\n",
       "      <td>1</td>\n",
       "      <td>1</td>\n",
       "      <td>1</td>\n",
       "      <td>1</td>\n",
       "      <td>2</td>\n",
       "      <td>2</td>\n",
       "      <td>1</td>\n",
       "      <td>...</td>\n",
       "      <td>23</td>\n",
       "      <td>1</td>\n",
       "      <td>1</td>\n",
       "      <td>1</td>\n",
       "      <td>1</td>\n",
       "      <td>1</td>\n",
       "      <td>1</td>\n",
       "      <td>1</td>\n",
       "      <td>1</td>\n",
       "      <td>1</td>\n",
       "    </tr>\n",
       "  </tbody>\n",
       "</table>\n",
       "<p>1 rows × 1564 columns</p>\n",
       "</div>"
      ],
      "text/plain": [
       "       abandoning  ability  able  abridge  abroad  abuse  academia  academic  \\\n",
       "Itula           1        1     2        1       1      1         1         2   \n",
       "\n",
       "       accelerate  accelerating  ...  youth  youthfulness  zambezi  òjobs  \\\n",
       "Itula           2             1  ...     23             1        1      1   \n",
       "\n",
       "       òlift  ònatural  òthe  òunspoiltó  ôall  õs  \n",
       "Itula      1         1     1           1     1   1  \n",
       "\n",
       "[1 rows x 1564 columns]"
      ]
     },
     "execution_count": 17,
     "metadata": {},
     "output_type": "execute_result"
    }
   ],
   "source": [
    "feature_names = vect.get_feature_names()\n",
    "data_vect_feat = pd.DataFrame(data_vect.toarray(), columns=feature_names)\n",
    "data_vect_feat.index = df.index\n",
    "data_vect_feat"
   ]
  },
  {
   "cell_type": "code",
   "execution_count": 18,
   "id": "b0e73620-87bf-4f36-b948-c07b048f9104",
   "metadata": {},
   "outputs": [
    {
     "data": {
      "text/html": [
       "<div>\n",
       "<style scoped>\n",
       "    .dataframe tbody tr th:only-of-type {\n",
       "        vertical-align: middle;\n",
       "    }\n",
       "\n",
       "    .dataframe tbody tr th {\n",
       "        vertical-align: top;\n",
       "    }\n",
       "\n",
       "    .dataframe thead th {\n",
       "        text-align: right;\n",
       "    }\n",
       "</style>\n",
       "<table border=\"1\" class=\"dataframe\">\n",
       "  <thead>\n",
       "    <tr style=\"text-align: right;\">\n",
       "      <th></th>\n",
       "      <th>Itula</th>\n",
       "    </tr>\n",
       "  </thead>\n",
       "  <tbody>\n",
       "    <tr>\n",
       "      <th>abandoning</th>\n",
       "      <td>1</td>\n",
       "    </tr>\n",
       "    <tr>\n",
       "      <th>ability</th>\n",
       "      <td>1</td>\n",
       "    </tr>\n",
       "    <tr>\n",
       "      <th>able</th>\n",
       "      <td>2</td>\n",
       "    </tr>\n",
       "    <tr>\n",
       "      <th>abridge</th>\n",
       "      <td>1</td>\n",
       "    </tr>\n",
       "    <tr>\n",
       "      <th>abroad</th>\n",
       "      <td>1</td>\n",
       "    </tr>\n",
       "    <tr>\n",
       "      <th>...</th>\n",
       "      <td>...</td>\n",
       "    </tr>\n",
       "    <tr>\n",
       "      <th>ònatural</th>\n",
       "      <td>1</td>\n",
       "    </tr>\n",
       "    <tr>\n",
       "      <th>òthe</th>\n",
       "      <td>1</td>\n",
       "    </tr>\n",
       "    <tr>\n",
       "      <th>òunspoiltó</th>\n",
       "      <td>1</td>\n",
       "    </tr>\n",
       "    <tr>\n",
       "      <th>ôall</th>\n",
       "      <td>1</td>\n",
       "    </tr>\n",
       "    <tr>\n",
       "      <th>õs</th>\n",
       "      <td>1</td>\n",
       "    </tr>\n",
       "  </tbody>\n",
       "</table>\n",
       "<p>1564 rows × 1 columns</p>\n",
       "</div>"
      ],
      "text/plain": [
       "            Itula\n",
       "abandoning      1\n",
       "ability         1\n",
       "able            2\n",
       "abridge         1\n",
       "abroad          1\n",
       "...           ...\n",
       "ònatural        1\n",
       "òthe            1\n",
       "òunspoiltó      1\n",
       "ôall            1\n",
       "õs              1\n",
       "\n",
       "[1564 rows x 1 columns]"
      ]
     },
     "execution_count": 18,
     "metadata": {},
     "output_type": "execute_result"
    }
   ],
   "source": [
    "data = data_vect_feat.transpose()\n",
    "data"
   ]
  },
  {
   "cell_type": "code",
   "execution_count": 19,
   "id": "b3b06877-17bd-4315-9244-b3499fcaeac5",
   "metadata": {},
   "outputs": [
    {
     "name": "stdout",
     "output_type": "stream",
     "text": [
      "key Itula, value [('need', 39), ('people', 35), ('namibian', 26), ('namibia', 26), ('government', 25), ('youth', 23), ('economy', 21), ('health', 21), ('free', 18), ('citizen', 18), ('provide', 17), ('country', 16), ('education', 16), ('benefit', 16), ('service', 16), ('resource', 15), ('president', 14), ('shall', 14), ('political', 13), ('business', 13), ('new', 12), ('nation', 12), ('water', 12), ('sector', 11), ('road', 11), ('training', 11), ('land', 11), ('state', 11), ('access', 11), ('opportunity', 11), ('way', 10), ('party', 10), ('company', 10), ('good', 10), ('market', 10), ('leader', 10), ('private', 10), ('independent', 9), ('change', 9), ('right', 9), ('make', 9), ('industry', 9), ('policy', 9), ('community', 9), ('future', 9), ('activity', 9), ('mining', 9), ('especially', 8), ('large', 8), ('worker', 8), ('time', 8), ('skill', 8), ('development', 8), ('care', 8), ('public', 7), ('year', 7), ('professional', 7), ('national', 7), ('permit', 7), ('infrastructure', 7), ('trade', 7), ('support', 7), ('run', 7), ('tourism', 7), ('current', 7), ('constitution', 7), ('institution', 7), ('society', 7), ('local', 7), ('international', 7), ('rich', 6), ('administration', 6), ('important', 6), ('ensure', 6), ('population', 6), ('decision', 6), ('mean', 6), ('small', 6), ('enterprise', 6), ('natural', 6), ('experience', 6), ('law', 6), ('self', 6), ('power', 6), ('hand', 6), ('want', 6), ('age', 6), ('world', 6), ('difficult', 6), ('wealth', 6), ('fish', 6), ('achieve', 5), ('industrial', 5), ('security', 5), ('designed', 5), ('economic', 5), ('living', 5), ('elite', 5), ('develop', 5), ('life', 5), ('electricity', 5), ('based', 5), ('effect', 5), ('working', 5), ('production', 5), ('social', 5), ('given', 5), ('fishery', 5), ('priority', 5), ('reason', 5), ('swapo', 5), ('strategy', 5), ('present', 5), ('minister', 5), ('ambition', 5), ('regional', 5), ('member', 5), ('foreign', 5), ('participation', 5), ('investment', 5), ('housing', 5), ('individual', 5), ('use', 5), ('fundamental', 5), ('fund', 5), ('challenge', 5), ('democracy', 4), ('capitalism', 4), ('like', 4), ('struggle', 4), ('capacity', 4), ('organisation', 4), ('th', 4), ('job', 4), ('irrespective', 4), ('programme', 4), ('building', 4), ('different', 4), ('peopleõs', 4), ('corruption', 4), ('civil', 4), ('led', 4), ('circumstance', 4), ('critical', 4), ('produce', 4), ('specific', 4), ('set', 4), ('million', 4), ('freedom', 4), ('post', 4), ('assist', 4), ('point', 4), ('respect', 4), ('number', 4), ('article', 4), ('woman', 4), ('idea', 4), ('area', 4), ('require', 4), ('example', 4), ('house', 4), ('hope', 4), ('expectation', 4), ('employment', 4), ('food', 4), ('high', 4), ('neighbour', 4), ('region', 4), ('necessary', 4), ('allow', 4), ('problem', 4), ('pupil', 4), ('agriculture', 4), ('family', 4), ('farm', 4), ('principle', 4), ('environment', 4), ('ministry', 4), ('major', 4), ('worst', 4), ('forward', 4), ('including', 4), ('sale', 4), ('believe', 4), ('scheme', 4), ('early', 4), ('place', 4), ('unemployment', 4), ('far', 3), ('product', 3), ('served', 3), ('informal', 3), ('safety', 3), ('successful', 3), ('serve', 3), ('contribution', 3), ('profit', 3), ('sanitation', 3), ('help', 3), ('stop', 3), ('digital', 3), ('fact', 3), ('funding', 3), ('succeed', 3), ('condition', 3), ('structure', 3), ('potential', 3), ('revolutionary', 3), ('friend', 3), ('intend', 3), ('deliver', 3), ('import', 3), ('defence', 3), ('ill', 3), ('smith', 3), ('delivery', 3), ('socio', 3), ('knowledge', 3), ('currently', 3), ('domestic', 3), ('rule', 3), ('revenue', 3), ('intended', 3), ('running', 3), ('rural', 3), ('intention', 3), ('efficient', 3), ('exchange', 3), ('destiny', 3), ('possible', 3), ('course', 3), ('introduction', 3), ('essential', 3), ('employee', 3), ('belief', 3), ('learn', 3), ('ministerial', 3), ('nationõs', 3), ('network', 3), ('blue', 3), ('obvious', 3), ('maintenance', 3), ('welfare', 3), ('target', 3), ('obligation', 3), ('transferred', 3), ('agenda', 3), ('city', 3), ('manifesto', 3), ('level', 3), ('mechanism', 3), ('old', 3), ('veteran', 3), ('allocated', 3), ('allocation', 3), ('work', 3), ('traditional', 3), ('beneficiary', 3), ('non', 3), ('billion', 3), ('marx', 3), ('licence', 3), ('better', 3), ('young', 3), ('town', 3), ('appropriate', 3), ('impartial', 2), ('energy', 2), ('entrepreneurship', 2), ('plan', 2), ('entrepreneurial', 2), ('available', 2), ('entrepreneur', 2), ('emerging', 2), ('entity', 2), ('entitled', 2), ('revised', 2), ('entirely', 2), ('entire', 2), ('result', 2), ('retail', 2), ('review', 2), ('objective', 2), ('unhealthy', 2), ('empowerment', 2), ('union', 2), ('reward', 2), ('return', 2), ('revolution', 2), ('commission', 2), ('balance', 2), ('avoid', 2), ('obliged', 2), ('increasing', 2), ('best', 2), ('person', 2), ('independence', 2), ('seek', 2), ('looted', 2), ('duty', 2), ('permitted', 2), ('duplicating', 2), ('dual', 2), ('selected', 2), ('offered', 2), ('drive', 2), ('drill', 2), ('big', 2), ('personal', 2), ('save', 2), ('economically', 2), ('effort', 2), ('management', 2), ('improve', 2), ('elected', 2), ('bad', 2), ('improving', 2), ('observe', 2), ('making', 2), ('loyalty', 2), ('banner', 2), ('majority', 2), ('safe', 2), ('labour', 2), ('incomprehensible', 2), ('ed', 2), ('assistance', 2), ('resistance', 2), ('restricted', 2), ('quota', 2), ('forget', 2), ('addition', 2), ('wildlife', 2), ('wi', 2), ('pursuit', 2), ('quick', 2), ('wheel', 2), ('financial', 2), ('plumbing', 2), ('radical', 2), ('affiliation', 2), ('afford', 2), ('print', 2), ('read', 2), ('ready', 2), ('welcome', 2), ('governance', 2), ('adam', 2), ('provision', 2), ('achieving', 2), ('profession', 2), ('able', 2), ('progress', 2), ('mobile', 2), ('promise', 2), ('academic', 2), ('accelerate', 2), ('accept', 2), ('mix', 2), ('proposed', 2), ('prosperity', 2), ('protect', 2), ('protection', 2), ('account', 2), ('process', 2), ('agricultural', 2), ('receipt', 2), ('failed', 2), ('excluding', 2), ('hub', 2), ('excellent', 2), ('human', 2), ('representation', 2), ('eu', 2), ('using', 2), ('identified', 2), ('usa', 2), ('identify', 2), ('servant', 2), ('ask', 2), ('po', 2), ('nurse', 2), ('illegal', 2), ('equally', 2), ('apprenticeship', 2), ('measure', 2), ('press', 2), ('hospital', 2), ('received', 2), ('allegiance', 2), ('facilitate', 2), ('merit', 2), ('nearly', 2), ('pre', 2), ('expertise', 2), ('appeal', 2), ('relevant', 2), ('appoin', 2), ('reliable', 2), ('possibility', 2), ('various', 2), ('exists', 2), ('existing', 2), ('selling', 2), ('south', 2), ('telephone', 2), ('install', 2), ('generation', 2), ('cronyism', 2), ('crop', 2), ('let', 2), ('century', 2), ('thing', 2), ('solution', 2), ('daily', 2), ('socioeconomic', 2), ('overlooked', 2), ('liberty', 2), ('deep', 2), ('considerable', 2), ('constraint', 2), ('tool', 2), ('student', 2), ('connection', 2), ('study', 2), ('conjunction', 2), ('tourist', 2), ('open', 2), ('democratic', 2), ('smes', 2), ('subject', 2), ('smart', 2), ('patriot', 2), ('constitutional', 2), ('stopped', 2), ('karl', 2), ('chosen', 2), ('participate', 2), ('controlling', 2), ('tate', 2), ('task', 2), ('cooperative', 2), ('standard', 2), ('stagnation', 2), ('contrary', 2), ('staff', 2), ('le', 2), ('cost', 2), ('involve', 2), ('countryõs', 2), ('criticise', 2), ('technology', 2), ('continue', 2), ('continent', 2), ('partnership', 2), ('specifically', 2), ('creative', 2), ('try', 2), ('crime', 2), ('content', 2), ('interior', 2), ('talent', 2), ('construction', 2), ('patriotism', 2), ('start', 2), ('dignified', 2), ('similar', 2), ('period', 2), ('inevitably', 2), ('blind', 2), ('settlement', 2), ('simultaneously', 2), ('diet', 2), ('body', 2), ('transport', 2), ('simply', 2), ('pay', 2), ('direct', 2), ('lack', 2), ('common', 2), ('directly', 2), ('percent', 2), ('shortage', 2), ('kind', 2), ('discriminatory', 2), ('share', 2), ('shop', 2), ('know', 2), ('shelter', 2), ('supply', 2), ('bold', 2), ('true', 2), ('build', 2), ('comrade', 2), ('inherent', 2), ('come', 2), ('ot', 2), ('doctor', 2), ('divert', 2), ('sufficient', 2), ('determined', 2), ('pension', 2), ('known', 2), ('despite', 2), ('detrimental', 2), ('devastating', 2), ('donõt', 2), ('transfer', 2), ('overcome', 2), ('long', 2), ('outside', 2), ('premise', 1), ('nam', 1), ('presidency', 1), ('presidential', 1), ('orga', 1), ('paramount', 1), ('previous', 1), ('parliamen', 1), ('pressure', 1), ('nail', 1), ('music', 1), ('parasitic', 1), ('ne', 1), ('producer', 1), ('park', 1), ('ndamental', 1), ('nationwide', 1), ('price', 1), ('prime', 1), ('ossusvlei', 1), ('procedure', 1), ('nationality', 1), ('nationalism', 1), ('overall', 1), ('preference', 1), ('original', 1), ('oriented', 1), ('overlook', 1), ('ov', 1), ('probity', 1), ('owned', 1), ('outperforming', 1), ('orientation', 1), ('outapi', 1), ('nd', 1), ('pro', 1), ('paid', 1), ('privilege', 1), ('organisatio', 1), ('produced', 1), ('prioritise', 1), ('priorit', 1), ('par', 1), ('principal', 1), ('problematic', 1), ('periodically', 1), ('preferably', 1), ('ny', 1), ('plagu', 1), ('obligatory', 1), ('penny', 1), ('peace', 1), ('planning', 1), ('ooperative', 1), ('plant', 1), ('patient', 1), ('operate', 1), ('opening', 1), ('playing', 1), ('plenty', 1), ('ploiting', 1), ('ployment', 1), ('nutritionally', 1), ('pathway', 1), ('pensioner', 1), ('ome', 1), ('omaheke', 1), ('piece', 1), ('office', 1), ('official', 1), ('performance', 1), ('offset', 1), ('offer', 1), ('occupy', 1), ('oil', 1), ('percentage', 1), ('occupation', 1), ('phenomenon', 1), ('phosphate', 1), ('physiotherapist', 1), ('okavango', 1), ('observing', 1), ('peoplesõ', 1), ('nutrition', 1), ('operating', 1), ('prefabricated', 1), ('poten', 1), ('portfolio', 1), ('particularly', 1), ('position', 1), ('order', 1), ('ordinary', 1), ('nisation', 1), ('postgraduate', 1), ('niche', 1), ('path', 1), ('participates', 1), ('pr', 1), ('practice', 1), ('pragmatism', 1), ('participated', 1), ('negotiate', 1), ('needing', 1), ('partisan', 1), ('nokia', 1), ('orange', 1), ('port', 1), ('past', 1), ('passenger', 1), ('numbering', 1), ('polarised', 1), ('opportunist', 1), ('oppression', 1), ('polic', 1), ('ntrywide', 1), ('novel', 1), ('pas', 1), ('poor', 1), ('notwithstanding', 1), ('option', 1), ('popularity', 1), ('note', 1), ('persuasion', 1), ('abandoning', 1), ('productive', 1), ('truly', 1), ('thirty', 1), ('thereof', 1), ('testimony', 1), ('tertiary', 1), ('territory', 1), ('tendering', 1), ('telephony', 1), ('teeming', 1), ('ted', 1), ('technological', 1), ('technique', 1), ('tech', 1), ('teacher', 1), ('taxi', 1), ('tarians', 1), ('threat', 1), ('tial', 1), ('tion', 1), ('trained', 1), ('tribalism', 1), ('trial', 1), ('treasury', 1), ('travelled', 1), ('travel', 1), ('transition', 1), ('train', 1), ('todayõs', 1), ('trailing', 1), ('tradition', 1), ('track', 1), ('tortured', 1), ('torch', 1), ('tor', 1), ('taking', 1), ('tackled', 1), ('table', 1), ('step', 1), ('strong', 1), ('strictly', 1), ('stricter', 1), ('store', 1), ('stolen', 1), ('stifling', 1), ('stealing', 1), ('succe', 1), ('stayed', 1), ('status', 1), ('stated', 1), ('starting', 1), ('standing', 1), ('stake', 1), ('subsidises', 1), ('success', 1), ('syste', 1), ('supervision', 1), ('sweden', 1), ('swa', 1), ('sustainable', 1), ('surround', 1), ('supported', 1), ('supervisory', 1), ('supervised', 1), ('suitable', 1), ('supermarket', 1), ('sung', 1), ('summary', 1), ('summ', 1), ('sum', 1), ('suitably', 1), ('trouble', 1), ('turn', 1), ('productivity', 1), ('turned', 1), ('western', 1), ('west', 1), ('weakness', 1), ('war', 1), ('waiting', 1), ('vulnerable', 1), ('vtcõs', 1), ('voting', 1), ('voc', 1), ('vital', 1), ('vision', 1), ('violence', 1), ('vigilance', 1), ('victim', 1), ('vested', 1), ('white', 1), ('widening', 1), ('wider', 1), ('zambezi', 1), ('ôall', 1), ('òunspoiltó', 1), ('òthe', 1), ('ònatural', 1), ('òlift', 1), ('òjobs', 1), ('youthfulness', 1), ('wish', 1), ('yout', 1), ('yes', 1), ('wrong', 1), ('writing', 1), ('worrying', 1), ('witnessed', 1), ('version', 1), ('vast', 1), ('value', 1), ('unbridled', 1), ('undue', 1), ('unds', 1), ('undertake', 1), ('understand', 1), ('underground', 1), ('undeniably', 1), ('unable', 1), ('unforeseeable', 1), ('ultimately', 1), ('ultimate', 1), ('ud', 1), ('ty', 1), ('twyfel', 1), ('turning', 1), ('unemployed', 1), ('unfortunate', 1), ('valuable', 1), ('urgency', 1), ('vain', 1), ('ution', 1), ('utilise', 1), ('ustries', 1), ('useful', 1), ('used', 1), ('ural', 1), ('unfortunately', 1), ('ur', 1), ('upgrading', 1), ('unwanted', 1), ('unskilled', 1), ('unnecessary', 1), ('unhygienic', 1), ('st', 1), ('squally', 1), ('spread', 1), ('sport', 1), ('remain', 1), ('relying', 1), ('religion', 1), ('reli', 1), ('relatively', 1), ('relationship', 1), ('related', 1), ('relapse', 1), ('rejected', 1), ('reinvested', 1), ('reign', 1), ('regulatory', 1), ('regulation', 1), ('regardless', 1), ('reforming', 1), ('remains', 1), ('remote', 1), ('remunerated', 1), ('rescue', 1), ('responsibility', 1), ('resort', 1), ('residential', 1), ('resident', 1), ('reside', 1), ('reserved', 1), ('requires', 1), ('repeated', 1), ('required', 1), ('reputation', 1), ('republic', 1), ('represent', 1), ('replaced', 1), ('replace', 1), ('reform', 1), ('redundant', 1), ('reduction', 1), ('proxy', 1), ('quickly', 1), ('question', 1), ('purpose', 1), ('pulation', 1), ('publicly', 1), ('pu', 1), ('provided', 1), ('rail', 1), ('proud', 1), ('protecting', 1), ('property', 1), ('prone', 1), ('project', 1), ('progressive', 1), ('quote', 1), ('railway', 1), ('reducing', 1), ('recall', 1), ('redistribute', 1), ('rededicate', 1), ('record', 1), ('recognising', 1), ('recent', 1), ('receive', 1), ('reasoning', 1), ('rally', 1), ('reasonable', 1), ('reality', 1), ('realise', 1), ('reading', 1), ('reached', 1), ('reach', 1), ('rest', 1), ('restaurant', 1), ('restoration', 1), ('sleepwalking', 1), ('smallholder', 1), ('sma', 1), ('slowly', 1), ('slow', 1), ('slogan', 1), ('slightest', 1), ('skilled', 1), ('sme', 1), ('ski', 1), ('sk', 1), ('sixteenth', 1), ('sit', 1), ('sion', 1), ('sidency', 1), ('smallholding', 1), ('soaked', 1), ('shareholder', 1), ('sovereignty', 1), ('spent', 1), ('spends', 1), ('spending', 1), ('specialty', 1), ('specialization', 1), ('soviet', 1), ('source', 1), ('soaring', 1), ('soon', 1), ('song', 1), ('solve', 1), ('solid', 1), ('solar', 1), ('soil', 1), ('shipped', 1), ('sha', 1), ('restore', 1), ('rid', 1), ('room', 1), ('roof', 1), ('rnment', 1), ('risk', 1), ('rightful', 1), ('multinational', 1), ('ributing', 1), ('rundu', 1), ('revive', 1), ('retire', 1), ('retaining', 1), ('retained', 1), ('retain', 1), ('restoring', 1), ('round', 1), ('sacred', 1), ('settle', 1), ('secularity', 1), ('setting', 1), ('servicing', 1), ('send', 1), ('sell', 1), ('segment', 1), ('seeking', 1), ('secretary', 1), ('sacrifice', 1), ('scene', 1), ('saved', 1), ('salary', 1), ('said', 1), ('safari', 1), ('sacrificed', 1), ('multitude', 1), ('involvement', 1), ('mpts', 1), ('cou', 1), ('creates', 1), ('create', 1), ('cream', 1), ('craft', 1), ('countrywide', 1), ('countryside', 1), ('count', 1), ('corrupt', 1), ('creation', 1), ('cope', 1), ('coordination', 1), ('coordinated', 1), ('convicted', 1), ('controlled', 1), ('control', 1), ('contributor', 1), ('creating', 1), ('creativity', 1), ('contribute', 1), ('danger', 1), ('deficit', 1), ('deepening', 1), ('decorator', 1), ('decided', 1), ('decide', 1), ('debt', 1), ('dared', 1), ('dam', 1), ('criminal', 1), ('cycle', 1), ('curriculum', 1), ('currency', 1), ('cultural', 1), ('cultivated', 1), ('crony', 1), ('criticism', 1), ('contributing', 1), ('contrib', 1), ('dentist', 1), ('committee', 1), ('complementary', 1), ('competition', 1), ('compassion', 1), ('comparatively', 1), ('communication', 1), ('communicating', 1), ('commodity', 1), ('commit', 1), ('compulsory', 1), ('commercial', 1), ('comfortably', 1), ('comfortable', 1), ('colour', 1), ('colonial', 1), ('collectively', 1), ('collapse', 1), ('complete', 1), ('concentrating', 1), ('contraction', 1), ('constant', 1), ('continues', 1), ('cont', 1), ('consult', 1), ('constructively', 1), ('construct', 1), ('constitutio', 1), ('constantly', 1), ('considered', 1), ('conducive', 1), ('consideration', 1), ('consequently', 1), ('consequence', 1), ('conomy', 1), ('connected', 1), ('confined', 1), ('conduct', 1), ('delivered', 1), ('denying', 1), ('coastal', 1), ('earns', 1), ('eded', 1), ('ectricity', 1), ('economical', 1), ('ecology', 1), ('eat', 1), ('easy', 1), ('east', 1), ('earnings', 1), ('educate', 1), ('earning', 1), ('earner', 1), ('ear', 1), ('dynamism', 1), ('dust', 1), ('drought', 1), ('driver', 1), ('educa', 1), ('educatingó', 1), ('draft', 1), ('electing', 1), ('employ', 1), ('em', 1), ('eligible', 1), ('elfare', 1), ('elephant', 1), ('electr', 1), ('election', 1), ('elder', 1), ('educator', 1), ('el', 1), ('eiseb', 1), ('egulated', 1), ('eforms', 1), ('efficiently', 1), ('effective', 1), ('eek', 1), ('drain', 1), ('dozen', 1), ('depends', 1), ('desperate', 1), ('dictate', 1), ('developm', 1), ('developing', 1), ('developed', 1), ('determine', 1), ('detailed', 1), ('despicable', 1), ('desired', 1), ('difficulty', 1), ('designing', 1), ('desert', 1), ('descartes', 1), ('desalinatio', 1), ('derived', 1), ('derive', 1), ('deploying', 1), ('dictatorship', 1), ('dilemma', 1), ('downgradin', 1), ('distinguishing', 1), ('downfall', 1), ('doomed', 1), ('document', 1), ('distrust', 1), ('distribution', 1), ('distributed', 1), ('distressed', 1), ('distinguished', 1), ('discovered', 1), ('disservice', 1), ('dissent', 1), ('dispensation', 1), ('dismantled', 1), ('disgrace', 1), ('disease', 1), ('discrimination', 1), ('coherent', 1), ('club', 1), ('motorist', 1), ('apparatchik', 1), ('apposite', 1), ('appoints', 1), ('appointment', 1), ('appointed', 1), ('apply', 1), ('applies', 1), ('applied', 1), ('apart', 1), ('appropriately', 1), ('anthem', 1), ('animal', 1), ('ancillary', 1), ('allows', 1), ('allowed', 1), ('allocate', 1), ('alleviate', 1), ('appreciating', 1), ('approval', 1), ('al', 1), ('aspect', 1), ('atte', 1), ('ationally', 1), ('ational', 1), ('astructure', 1), ('associated', 1), ('ass', 1), ('aspiration', 1), ('ary', 1), ('arbitrary', 1), ('artistic', 1), ('arti', 1), ('art', 1), ('arrangement', 1), ('aroab', 1), ('armpit', 1), ('arising', 1), ('alike', 1), ('air', 1), ('attracts', 1), ('accommodation', 1), ('action', 1), ('acolyte', 1), ('accruement', 1), ('accountability', 1), ('accordance', 1), ('accompany', 1), ('accompanied', 1), ('accident', 1), ('ad', 1), ('accessible', 1), ('accessed', 1), ('accelerating', 1), ('academia', 1), ('abuse', 1), ('abroad', 1), ('abridge', 1), ('activist', 1), ('address', 1), ('agreement', 1), ('advocated', 1), ('ago', 1), ('aggravated', 1), ('african', 1), ('africa', 1), ('affecting', 1), ('affect', 1), ('affair', 1), ('advocate', 1), ('addressed', 1), ('adviser', 1), ('advice', 1), ('advantageó', 1), ('advantage', 1), ('advancement', 1), ('adhere', 1), ('adequately', 1), ('attempt', 1), ('authored', 1), ('closeness', 1), ('caught', 1), ('chapter', 1), ('chance', 1), ('certainty', 1), ('certain', 1), ('centre', 1), ('central', 1), ('ce', 1), ('cartesian', 1), ('chatter', 1), ('carry', 1), ('carriage', 1), ('careful', 1), ('card', 1), ('capital', 1), ('cann', 1), ('candidate', 1), ('characterized', 1), ('cheap', 1), ('camp', 1), ('clean', 1), ('closely', 1), ('close', 1), ('clinic', 1), ('climate', 1), ('clich', 1), ('clear', 1), ('cleaner', 1), ('cle', 1), ('child', 1), ('claim', 1), ('citizenry', 1), ('citiz', 1), ('chronic', 1), ('choose', 1), ('choice', 1), ('chinaõs', 1), ('canal', 1), ('cabinet', 1), ('authority', 1), ('beco', 1), ('betterment', 1), ('betraying', 1), ('betrayal', 1), ('benefitting', 1), ('beneficial', 1), ('behaviour', 1), ('beginning', 1), ('becam', 1), ('bigger', 1), ('bankruptcy', 1), ('bankrupt', 1), ('bank', 1), ('balancing', 1), ('away', 1), ('awaiting', 1), ('ave', 1), ('bias', 1), ('biometric', 1), ('buy', 1), ('borrow', 1), ('built', 1), ('budgeted', 1), ('budget', 1), ('bring', 1), ('bricklaying', 1), ('bread', 1), ('bounty', 1), ('boreholes', 1), ('birth', 1), ('board', 1), ('bloated', 1), ('blip', 1), ('blindly', 1), ('blic', 1), ('blame', 1), ('black', 1), ('employing', 1), ('empower', 1), ('empowering', 1), ('initially', 1), ('instinct', 1), ('instantly', 1), ('insert', 1), ('insecurity', 1), ('innovator', 1), ('innovation', 1), ('initiative', 1), ('initial', 1), ('interference', 1), ('iniquity', 1), ('inhabitant', 1), ('ingenuity', 1), ('infr', 1), ('inflated', 1), ('inequality', 1), ('inefficient', 1), ('insult', 1), ('internationalised', 1), ('indus', 1), ('ist', 1), ('katima', 1), ('kapana', 1), ('justify', 1), ('justified', 1), ('judiciary', 1), ('journalism', 1), ('jackal', 1), ('issued', 1), ('intervene', 1), ('ission', 1), ('ir', 1), ('iority', 1), ('ability', 1), ('invest', 1), ('intimidation', 1), ('intervention', 1), ('industrialised', 1), ('indiv', 1), ('key', 1), ('hyena', 1), ('iduals', 1), ('identifying', 1), ('identifies', 1), ('identification', 1), ('ideal', 1), ('ician', 1), ('ibia', 1), ('household', 1), ('ignoring', 1), ('hotel', 1), ('honest', 1), ('homel', 1), ('home', 1), ('hold', 1), ('hit', 1), ('historical', 1), ('ignored', 1), ('illegally', 1), ('indigenous', 1), ('improved', 1), ('independently', 1), ('ind', 1), ('increase', 1), ('incompeten', 1), ('inclu', 1), ('incapacitated', 1), ('inadequate', 1), ('imprisoned', 1), ('illness', 1), ('impossible', 1), ('imposing', 1), ('implementation', 1), ('implement', 1), ('impact', 1), ('imp', 1), ('immune', 1), ('katutura', 1), ('kharas', 1), ('en', 1), ('master', 1), ('meet', 1), ('medium', 1), ('medicine', 1), ('meat', 1), ('measurable', 1), ('maximum', 1), ('matter', 1), ('mast', 1), ('men', 1), ('marxõs', 1), ('marketing', 1), ('marketer', 1), ('marked', 1), ('marine', 1), ('manõs', 1), ('manufacturing', 1), ('meltdown', 1), ('mention', 1), ('manipulation', 1), ('misfortune', 1), ('mother', 1), ('monitoring', 1), ('mo', 1), ('mixture', 1), ('mixed', 1), ('mitigate', 1), ('mistake', 1), ('minor', 1), ('mentioned', 1), ('ming', 1), ('mind', 1), ('mighty', 1), ('message', 1), ('meritocracy', 1), ('merge', 1), ('ments', 1), ('mantra', 1), ('mandated', 1), ('kill', 1), ('lawful', 1), ('lementation', 1), ('legislate', 1), ('legality', 1), ('leave', 1), ('learning', 1), ('leadership', 1), ('lead', 1), ('launched', 1), ('liberation', 1), ('launch', 1), ('larger', 1), ('language', 1), ('landscape', 1), ('landmass', 1), ('landed', 1), ('laid', 1), ('liberated', 1), ('limitation', 1), ('manager', 1), ('longer', 1), ('managed', 1), ('maladministration', 1), ('maintain', 1), ('loyal', 1), ('low', 1), ('loss', 1), ('look', 1), ('loit', 1), ('ling', 1), ('live', 1), ('little', 1), ('literacy', 1), ('lionõs', 1), ('linking', 1), ('linked', 1), ('link', 1), ('hire', 1), ('highlight', 1), ('heroine', 1), ('expecting', 1), ('exploit', 1), ('experiment', 1), ('experiencing', 1), ('experienced', 1), ('expensive', 1), ('expenditure', 1), ('expended', 1), ('expected', 1), ('exploiting', 1), ('expansion', 1), ('expanse', 1), ('expan', 1), ('exp', 1), ('exit', 1), ('existence', 1), ('exercise', 1), ('exploitation', 1), ('export', 1), ('execute', 1), ('factory', 1), ('fascinating', 1), ('famers', 1), ('faith', 1), ('failure', 1), ('fail', 1), ('fai', 1), ('factual', 1), ('faced', 1), ('extensively', 1), ('face', 1), ('eye', 1), ('extremely', 1), ('extreme', 1), ('extractive', 1), ('extract', 1), ('external', 1), ('exempt', 1), ('excluded', 1), ('hero', 1), ('enjoy', 1), ('equipment', 1), ('equal', 1), ('epupa', 1), ('ent', 1), ('ensuring', 1), ('enjoys', 1), ('enjoying', 1), ('enhanced', 1), ('equitably', 1), ('enhance', 1), ('english', 1), ('engela', 1), ('engaged', 1), ('endeavour', 1), ('encouraging', 1), ('encouragement', 1), ('equitable', 1), ('er', 1), ('exception', 1), ('establishing', 1), ('excel', 1), ('examine', 1), ('ex', 1), ('ew', 1), ('eventually', 1), ('evaluation', 1), ('establishment', 1), ('established', 1), ('era', 1), ('establish', 1), ('essentially', 1), ('es', 1), ('error', 1), ('erikson', 1), ('erations', 1), ('eracts', 1), ('father', 1), ('featherbedding', 1), ('featu', 1), ('gove', 1), ('grateful', 1), ('graduating', 1), ('grade', 1), ('governmentõs', 1), ('governing', 1), ('governed', 1), ('govern', 1), ('going', 1), ('gross', 1), ('gipf', 1), ('gious', 1), ('ghost', 1), ('getting', 1), ('generated', 1), ('generate', 1), ('general', 1), ('greater', 1), ('ground', 1), ('feature', 1), ('happen', 1), ('herd', 1), ('heartb', 1), ('healthy', 1), ('heal', 1), ('head', 1), ('harassment', 1), ('happy', 1), ('hallmark', 1), ('group', 1), ('hair', 1), ('gulf', 1), ('guise', 1), ('guiding', 1), ('guard', 1), ('guaranteed', 1), ('growth', 1), ('gender', 1), ('gen', 1), ('gdp', 1), ('finding', 1), ('following', 1), ('follower', 1), ('flood', 1), ('flexible', 1), ('fit', 1), ('fis', 1), ('finland', 1), ('finance', 1), ('garage', 1), ('fight', 1), ('fierce', 1), ('fiction', 1), ('fewer', 1), ('fellow', 1), ('feeding', 1), ('feed', 1), ('fontei', 1), ('force', 1), ('foreigner', 1), ('fortunately', 1), ('game', 1), ('gain', 1), ('futile', 1), ('furthermore', 1), ('funded', 1), ('functioning', 1), ('fu', 1), ('frustrated', 1), ('fro', 1), ('fresh', 1), ('frequent', 1), ('frenchman', 1), ('freeing', 1), ('fourth', 1), ('foundation', 1), ('õs', 1)] \n"
     ]
    }
   ],
   "source": [
    "import matplotlib.pyplot as plt\n",
    "import seaborn as sn\n",
    "\n",
    "# Find the top 1000 words written in the manifesto\n",
    "top_dict = {}\n",
    "for c in data.columns:\n",
    "    top = data[c].sort_values(ascending=False)\n",
    "    top_dict[c]= list(zip(top.index, top.values))\n",
    "\n",
    "for x in list(top_dict)[0:100]:\n",
    "    print(\"key {}, value {} \".format(x,  top_dict[x]))"
   ]
  },
  {
   "cell_type": "code",
   "execution_count": 20,
   "id": "2c4dbb88-571a-4a5c-b809-3e2821610536",
   "metadata": {},
   "outputs": [
    {
     "name": "stdout",
     "output_type": "stream",
     "text": [
      "['need', 'people', 'namibian', 'namibia', 'government', 'youth', 'economy', 'health', 'free', 'citizen']\n"
     ]
    }
   ],
   "source": [
    "# Look at the most common top words --> add them to the stop word list\n",
    "from collections import Counter\n",
    "\n",
    "# Let's first pull out the top 100 words for each comedian\n",
    "words = []\n",
    "for president in data:\n",
    "    top = [word for (word, count) in top_dict[president]]\n",
    "    for t in top:\n",
    "        words.append(t)\n",
    "\n",
    "print(words[:10])"
   ]
  },
  {
   "cell_type": "markdown",
   "id": "640168b0-646d-46d6-b91c-83f0dbec9ef1",
   "metadata": {},
   "source": [
    "### Sentiment Analysis\n",
    "\n",
    "* Polarity: a float value which ranges from [-1.0 to 1.0] where 0 indicates neutral, +1 indicates most positive statement and -1 rindicates most negative statement.\n",
    "\n",
    "* Subjectivity: a float value which ranges from [0.0 to 1.0] where 0.0 is most objective while 1.0 is most subjective. Subjective sentence expresses some personal opinios, views, beliefs, emotions, allegations, desires, beliefs, suspicions, and speculations where as objective refers to factual information."
   ]
  },
  {
   "cell_type": "code",
   "execution_count": 21,
   "id": "673edb01-74e2-47c2-8d9a-3920a6aed5d3",
   "metadata": {},
   "outputs": [],
   "source": [
    "# !pip3 install vaderSentiment"
   ]
  },
  {
   "cell_type": "code",
   "execution_count": 22,
   "id": "e4830fdd-826b-4510-a5e8-6a858dd6876d",
   "metadata": {},
   "outputs": [],
   "source": [
    "from collections import defaultdict\n",
    "from vaderSentiment.vaderSentiment import SentimentIntensityAnalyzer\n",
    "from textblob import TextBlob"
   ]
  },
  {
   "cell_type": "code",
   "execution_count": 23,
   "id": "3caa7a9c-babc-4238-b58b-d9c9753b8a0d",
   "metadata": {},
   "outputs": [
    {
     "data": {
      "text/plain": [
       "Sentiment(polarity=0.07240899626355898, subjectivity=0.456152041874476)"
      ]
     },
     "execution_count": 23,
     "metadata": {},
     "output_type": "execute_result"
    }
   ],
   "source": [
    "blob = TextBlob(clean_data)\n",
    "blob.sentiment"
   ]
  },
  {
   "cell_type": "markdown",
   "id": "14065ebb-bda5-4629-853d-87f4943d3fe8",
   "metadata": {},
   "source": [
    "### Summarization of the Document\n",
    "\n",
    "Text summarization is an important NLP task which is a way of producing a concise and fluent summary of a perticular textin an article, journal, book, comment review, etc while also preseving the key information and overall meaning."
   ]
  },
  {
   "cell_type": "code",
   "execution_count": 24,
   "id": "821b6e0e-ace6-49c1-a0b4-04a1f9e69b61",
   "metadata": {},
   "outputs": [],
   "source": [
    "from gensim.summarization.summarizer import summarize"
   ]
  },
  {
   "cell_type": "code",
   "execution_count": 25,
   "id": "3d349b2e-c076-4ed7-a1ca-db55e49f8a6c",
   "metadata": {},
   "outputs": [
    {
     "name": "stdout",
     "output_type": "stream",
     "text": [
      "nearly 30 years after our heroes and heroines sacrificed , many tortured , or imprisoned in the fight to gain our independence , self -determination and socioeconomic development , it is time to ask if the promises of freedom are being delivered .\n",
      "this manifesto sets out what we need to do to install good governance and identifies priorities to return the benefits of our countryõs riches to the people .\n",
      "it was to provide opportunities to all the people to participate in building and enjoying our countryõs riches .\n",
      "namibia is plagu ed by a common weakness of emerging nations ð a self -perpetuating elite whose initial intentions however good , however bold have been replaced with protecting their status , their wealth and their privileges .\n",
      "the millions looted from various government institutions need to be found , for example from gipf , sme bank , ghost salaries , inflated tendering procedures and inefficient state -owned enterprises .\n",
      "these looted funds could be reinvested into the betterment of all our lives -access to health , education , professional training and opportunity for our youth , the cream of our nation .\n",
      "we need and welcome citiz ens of other countries who can assist us in our ambitions and contribute to our growth , but we should not be selling or abandoning our birth right by denying similar opportunities to our own citizens .\n",
      "that is why i have initially authored and proposed a radical constitutional lawful step of electing an independent president with no obligations to persons or institutions but only to the namibian people .\n",
      "a president who will be independent of elected parliamen tarians and appoints ministers on their capacity to deliver bold policies and not on party allegiance .\n",
      "a president who is truly mandated by considerable number of ordinary people across the entire namibia and not a selected group of elite party leaders .\n",
      "namibia has reached a critical point in our young democracy where power has been transferred to elite who runs the country as a private business ignoring peopleõs needs and rights to a dignified existence .\n",
      "that is why i have decided , after very careful consideration to run for the office of president of the republic of namibia as an independent candidate and commit myself to the welfare of the people of namibia .\n",
      "our government has led our nation , despite its rich natural resources , to this point .\n",
      "he can identify targets and priorities and establish programmes for reform but he will need ministerial advisers and professional managers appoin ted on merit , to help him execute these decisions .\n",
      "to ensure the true independence of the president these ministerial civil servants and professionals must be free of political or social bias .\n",
      "health , education , law , journalism as well as business , trade unions , and the arts ð excluding individuals who are related to the president and ministers or persons with a known personal agenda .\n",
      "the relevant provisions of our constitution , especially our fundamental rights and freedoms , currently illegally ignored will be a good starting point .\n",
      "throughout our continent we have witnessed leaders and governments in the post -colonial era start with good intentions , freeing their nations from the worst of colonial oppression only for their efforts to be frustrated by civil wars , one ð party states , dictatorships and tribalism .\n",
      "we have an opportunity in namibia to avoid such a future while we still have the benefit of free elections .\n",
      "in accordance with article 1 ( 2 ) of the namibian constitution , ôall power shall be vested in the people of namibia , who shall exercise their sovereignty through democratic institutions.õ 14 .\n",
      "that is my reason for standing as an independent , to restore our faith in our people and our nation .\n",
      "the youth the youth makes up the majority of our population and while it has the potential to be the most contributor of our economic activities , it is unfortunate that this segment of our population is the worst hit by high unemployment characterized by inequality , in access to jobs , inadequate skills for job market and discrimination in the job market .\n",
      "further , the fact that youth unemployment , and other socio -economic dilemmas is not adequately addressed is the challenge that the democracies need deepening as youth participation in decision making process in the policy cycle is low , especially when it comes to agenda setting .\n",
      "these saved resources will go towards achieving some of our pr iority ambitions like encouraging local entrepreneurship , empowering the youth and women , as well as restoring budget allocations for their original purposes .\n",
      "the most important service a government can provide for its citizens is security and certainty in their daily lives .\n",
      "arbitrary interference in the rights and liberties of namibian citizens is contrary to both national and international law .\n",
      "we will prioritise the developm ent and opportunities of all citizens , including access to land , for especially the youth , women and veterans , development of enterprise and free access to health and education services .\n",
      "for example , we will ensure that resources intended for free health c are are not used to fund the private sector .\n",
      "industry and large businesses will be obliged to hire namibian staff and offer apprenticeships and training to namibian citizens if they wish to operate on namibian territory .\n",
      "while the contribution of such companies is welcome to develop our economy the expertise and skills required must eventually be transferred to our own citizens .\n",
      "other measures will be ne eded to ensure that the majority of benefits , financial and technological , arising from the exploitation of our resources , remains in namibia .\n",
      "as a veteran i had high hopes that our democratic future supervised by the party and its ideals , would deliver on our expectations and that all our people would benefit .\n",
      "the restoration of democracy and constitutional legality is as necessary for the health of swapo as it is for our government .\n",
      "namibia is now important for a ll peace -loving namibians than any political party in our country .\n",
      "in our economically polarised society , where the gulf between the rich and the poor is ever widening , any change is difficult to achieve , but i believe that working together , irrespective of political affiliation , we can achieve the changes we need .\n",
      "there is an urgency to leave behind party loyalty and rally behind the nationalism of an independent president to rescue namibia from beco ming a failed state .\n",
      "the heartb eat of any economy is undeniably , energy , water , finance , health and education .\n",
      "as mentioned before , the way the country is run at present does not permit enough resources to be distributed to those who need it .\n",
      "it w ill require investment in infrastructure - roads , electricity , access to digital services , appreciating the fourth industrial revolution and above all housing our people , on their land , with water , sanitation and electricity on hand .\n",
      "it is no longer revolutionary to observe that an economy entirely in private hands run via a market mechanism is doomed to failure .\n",
      "it can not provide support to sectors of the economy that are not governed by profit .\n",
      "in namibia there should be a place for private entrepreneurs , community enterprises , cooperatives , companies with shareholder capital and international companies .\n",
      "namibia is best served by a mixed e conomy open to innovation and entrepreneurial skills while benefitting from the experience and knowledge that must accompany successful large companies .\n",
      "to achieve this balance the government must provide a regulatory environment , which allows our people t o be the beneficiaries of our economic success .\n",
      "this means schemes for skills transfer to namibian workers and direct participation in the wealth generated by namibian industry .\n",
      "in namibia we need more investment in roads to bring people and communities together and to facilitate trade and the exchange of ideas .\n",
      "we need housing with running water , sanitation and el ectricity for our citizens .\n",
      "we need access to digital media via investment in digital economy linking remote regions to the cities and outside world .\n",
      "consequently , as a priority i intend to launch a major house -building programme to accelerate the security of our people .\n",
      "the n $ 1000.00 dual option direct government housing scheme , designed specifically to provide shelter and improve the standard of accommodation for our people in the so -called informal settlements , especially the youth , shall , simultaneously , provide employment instantly to many of our youths irrespective of their professions , but especially those emerging from relevant vtcõs courses such as bricklaying , electr ician and plumbing .\n",
      "learn from the development of desalinatio n plants in other countries and plan an infrastructure to utilise efficiently the current resources from dams , boreholes and canals .\n",
      "with this in mind we intend to set up regional hubs to assist the local communities to benefit from the local activities .\n",
      "if mining is to benefit the namibian people through its contribution to the namibian economy it will require to be r egulated at national level .\n",
      "to ensure tourism at least continues at its present level and preferably to increase it , it needs investment in transport infrastructure , better roads and better air access , maintenance of parks and wildlife protection , training o f staff for the support sector ð hotels , camps , restaurants , safaris and the multitude of tasks that make up the tourism industry .\n",
      "what we do need is the involvement of local communities on how and where the tourist experience can be improved .\n",
      "it would be futile to attempt to make namibia self -sufficient in food production because it would divert resources away from efficient use of land .\n",
      "we should simultaneously empower our traditional crop producers in the rural areas supported by the academia , in conjunction with a new peoplesõ oriented markets in various towns , to receive famers produce which can especially be accessed by the elders through a new nutrition smart scheme , designed to keep our people healthy .\n",
      "fish quotas , which had been allocated to a few connected individuals , shall be revised to allow for the entire public in al l regions to benefit from this natural resource through regional quota allocations .\n",
      "a fishery policy , which sells our natural wealth to foreigners without a ny accountability for the receipts , or a policy to extract national benefit from this bounty is not just a disgrace it is a political crime that no amount of self -satisfaction from the governing elite , whose years of power have led to this , can justify .\n",
      "if we were to read the business press in the developed industrial world , we would be led to believe that their economies turned on the activities of large multinational companies .\n",
      "there is plenty of room for entrepreneurship in a country like namibia , be it in the retail trade , servicing larger sectors , e.\n",
      "the protection of unskilled service delivery , such as those men and women in the hair and nail industry , traditional products and kapana industry , the taxi drivers and other minor but critical smes , shall be enhanced to allow for this industry to be restricted to namibian citizens only , through a specific regulation .\n",
      "i identify health , education and welfare as social services to which all citizens are entitled and to which all citizens should have free and ready access .\n",
      "it is made more difficult when we realise that about 80 % of f unds allocated to free health care are transferred to the private sector .\n",
      "we have had extremely valuable support in establishing a national health service from our international friends for which we are grateful .\n",
      "it is now time to accelerate the development of our own health professionals through education and training .\n",
      "we shall seek to develop links with other institutions with reliable reputations in training health professionals to ass ist us in our ambitions .\n",
      "we are beginning to benefit from namibian trained doctors and nurses graduating from namibian institutions but we need to provide postgraduate training and specialization in namibia .\n",
      "all people working in the health sector need specific training in appropriate sk ills and patient safety .\n",
      "education is an essential tool in building a self -reliant nation .\n",
      "to help pupils and student s to reach their full potential they must be offered opportunities for skill training as well as academic learning throughout their education .\n",
      "it must also be given priority in public funding to ensure all future gen erations benefit from investment we make now .\n",
      "it also has an obligation to its citizens to provide them with the means and opportunities so they can , as far as possible , protect themselves .\n",
      "free access to health and education are obvious mechanisms to achieve this .\n",
      "my m ission is to redistribute our wealth more equitably and insert a new dynamism into our society ; to involve us all in designing this new future by increasing the participation of us all in the political process ; to provide communities with the means of cont ributing to decisions affecting their own destiny .\n",
      "as president , i intend to make myself accessible to the people i represent .\n"
     ]
    }
   ],
   "source": [
    "print(summarize(lower_case))"
   ]
  },
  {
   "cell_type": "markdown",
   "id": "fa46bb05-d9db-4765-9dcc-e2a5b3194fd9",
   "metadata": {},
   "source": [
    "### Anomaly Detection "
   ]
  },
  {
   "cell_type": "code",
   "execution_count": 29,
   "id": "08f9c98e-e767-491e-8035-cbd3bdfccd1a",
   "metadata": {},
   "outputs": [],
   "source": [
    "from sklearn.feature_extraction.text import TfidfVectorizer\n",
    "import numpy as np\n",
    "\n",
    "class Anomaly(object):\n",
    "    def __init__(self, corpus, max_features):\n",
    "        self.corpus=corpus\n",
    "        self.max_features=max_features\n",
    "        \n",
    "    def jaccard_similarity(self, list1):\n",
    "        '''\n",
    "            jaccard similarity score to measure similarity of two sets: intersection/union\n",
    "        '''\n",
    "        vectorizer = TfidfVectorizer(max_features=self.max_features, stop_words={\"english\"})\n",
    "        X = vectorizer.fit_transform(corpus)\n",
    "        feature_list = vectorizer.get_feature_names()\n",
    "        intersection = len(list(set(list1).intersection(feature_list)))\n",
    "        union = (len(set(list1)) + len(set(feature_list))) - intersection\n",
    "        \n",
    "        return float(intersection) / union\n",
    "    \n",
    "    def batch_similarity_vect(self):\n",
    "        '''\n",
    "            similarity scores across a corpus of data\n",
    "        '''\n",
    "        lst = []\n",
    "        for idx in np.arange(len(corpus)):\n",
    "            lst.append(self.jaccard_similarity(corpus[idx].split()))\n",
    "            \n",
    "        return lst\n",
    "    \n",
    "    def online_similarity_val(self, lst):\n",
    "        '''\n",
    "            similarity score for a new data point w.r.t. a corpus of data\n",
    "        '''\n",
    "        return self.jaccard_similarity(lst)\n",
    "            "
   ]
  },
  {
   "cell_type": "code",
   "execution_count": 32,
   "id": "eb7abb14-e83f-4098-8458-21a6776e62ed",
   "metadata": {},
   "outputs": [],
   "source": [
    "corpus = [\n",
    "     'This is the first document',\n",
    "     'This document is the second document',\n",
    "     'And this is the third one',\n",
    "     'Is this the first document',\n",
    "     'I work at Nutanix'\n",
    "]"
   ]
  },
  {
   "cell_type": "code",
   "execution_count": 34,
   "id": "a6894e02-7c39-4ff4-b37e-94498596b703",
   "metadata": {},
   "outputs": [
    {
     "name": "stdout",
     "output_type": "stream",
     "text": [
      "\n",
      "batch similarity vector: [0.6666666666666666, 0.42857142857142855, 0.375, 0.6666666666666666, 0.0]\n",
      "\n",
      "online similarity value: 0.0\n"
     ]
    }
   ],
   "source": [
    "obj=Anomaly(corpus, 5)\n",
    "print()\n",
    "print(f'batch similarity vector: {obj.batch_similarity_vect()}')\n",
    "print()\n",
    "print(f'online similarity value: {obj.online_similarity_val(\"Mary has a little lamb\")}')"
   ]
  },
  {
   "cell_type": "code",
   "execution_count": null,
   "id": "2ee30387-4ac6-467f-950c-0d370a9f68f8",
   "metadata": {},
   "outputs": [],
   "source": []
  }
 ],
 "metadata": {
  "kernelspec": {
   "display_name": "Python 3 (ipykernel)",
   "language": "python",
   "name": "python3"
  },
  "language_info": {
   "codemirror_mode": {
    "name": "ipython",
    "version": 3
   },
   "file_extension": ".py",
   "mimetype": "text/x-python",
   "name": "python",
   "nbconvert_exporter": "python",
   "pygments_lexer": "ipython3",
   "version": "3.9.7"
  }
 },
 "nbformat": 4,
 "nbformat_minor": 5
}
